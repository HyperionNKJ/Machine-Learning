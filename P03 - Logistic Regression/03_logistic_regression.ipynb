{
 "cells": [
  {
   "cell_type": "markdown",
   "metadata": {},
   "source": [
    "> ### EEE3314-02: Introduction to Artificial Intelligence\n",
    "\n",
    "# Assignment \\# III: Logistic Regression"
   ]
  },
  {
   "cell_type": "markdown",
   "metadata": {},
   "source": [
    "<div style=\"text-align: right\"> **Due date: Nov. 2, 2019.** </div> \n",
    "<div style=\"text-align: right\"> **Please upload your file @ yscec by 8PM in the form of [ID_Name.zip].** </div> \n",
    "<div style=\"text-align: right\"> Wonkyung Lee (이원경): <a href=\"mailto:leewk92@yonsei.ac.kr\">leewk92@yonsei.ac.kr</a> </div>\n",
    "<div style=\"text-align: right\"> Geon Lee (이건): <a href=\"mailto:2015142195@yonsei.ac.kr\"> 2015142195@yonsei.ac.kr</a> </div>"
   ]
  },
  {
   "cell_type": "markdown",
   "metadata": {},
   "source": [
    "### *Assignement Instructions:*\n",
    "- Write a program implementing a particular algorithm to solve a given problem.   \n",
    "- <h4><span style=\"color:red\">**Report and discuss your results. Analyze the algorithm, theoretically and empirically. **</span> </h4>\n",
    "\n",
    "### *Collaboration policy:*\n",
    "- You may discuss the questions.   \n",
    "- Each student writes their own answers.   \n",
    "- **Write on your homework anyone with whom you collaborate.**   \n",
    "- Each student must write their own code for the programming part (**if not you will get a F grade**)."
   ]
  },
  {
   "cell_type": "markdown",
   "metadata": {},
   "source": [
    "<h2><span style=\"color:blue\">2019843554 Kai Jun Neo</span> </h2>"
   ]
  },
  {
   "cell_type": "code",
   "execution_count": 33,
   "metadata": {},
   "outputs": [
    {
     "name": "stdout",
     "output_type": "stream",
     "text": [
      "The autoreload extension is already loaded. To reload it, use:\n",
      "  %reload_ext autoreload\n",
      "This code is written at 2019-11-02 02:28:59.462043\n"
     ]
    }
   ],
   "source": [
    "%load_ext autoreload\n",
    "%autoreload 2\n",
    "\n",
    "import datetime\n",
    "print(\"This code is written at \" + str(datetime.datetime.now()))"
   ]
  },
  {
   "cell_type": "markdown",
   "metadata": {},
   "source": [
    "## Problem description"
   ]
  },
  {
   "cell_type": "markdown",
   "metadata": {},
   "source": [
    "We will implement $Stochastic Gradient Descent (SGD)$ to optimize a logistic regression model to predict whether a given patient have diabetes or not. In clinical informatics, machine learning approahces have been widely adopted to predict clinically adverse events based on patient data. For this problem, we will use the Pima Indians Diabetes Data Set. The data on each patient include:\n",
    "\n",
    "- $\\texttt{label}$: The output class variable (0 - normal or 1 - diabetes)  \n",
    "- $\\texttt{num_preg}$: Number of times pregnant \n",
    "- $\\texttt{PGC}$: Plasma glucose concentration at 2 hours in an oral glucose tolerance test (PGC)\n",
    "- $\\texttt{DBP}$: Diastolic blood pressure (DBP)\n",
    "- $\\texttt{tricept}$: Triceps skin fold thickness (tricept, unit: mm)  \n",
    "- $\\texttt{insulin}$: 2-Hour serum insulin (insulin, unit: μU/ml)\n",
    "- $\\texttt{BMI}$: Body mass index (BMI)\n",
    "- $\\texttt{ped_func}$: Diabetes pedigree function\n",
    "- $\\texttt{age}$: Age (age, years)\n",
    "\n",
    "Among all 768 patients, we will separate 500 patients as training data ($\\texttt{logistic_regression_training_data.csv}$) and 268 patients as test data ($\\texttt{logistic_regression_test_data.csv}$)."
   ]
  },
  {
   "cell_type": "code",
   "execution_count": 34,
   "metadata": {},
   "outputs": [],
   "source": [
    "import numpy as np\n",
    "import pandas as pd\n",
    "import matplotlib.pyplot as plt"
   ]
  },
  {
   "cell_type": "code",
   "execution_count": 35,
   "metadata": {},
   "outputs": [],
   "source": [
    "from P03 import load_data"
   ]
  },
  {
   "cell_type": "code",
   "execution_count": 36,
   "metadata": {},
   "outputs": [],
   "source": [
    "train_csv_path = 'logistic_regression_training_data.csv'\n",
    "test_csv_path = 'logistic_regression_testing_data.csv'\n",
    "df_train = pd.read_csv(train_csv_path)\n",
    "df_test = pd.read_csv(test_csv_path)"
   ]
  },
  {
   "cell_type": "code",
   "execution_count": 37,
   "metadata": {},
   "outputs": [
    {
     "data": {
      "text/html": [
       "<div>\n",
       "<style scoped>\n",
       "    .dataframe tbody tr th:only-of-type {\n",
       "        vertical-align: middle;\n",
       "    }\n",
       "\n",
       "    .dataframe tbody tr th {\n",
       "        vertical-align: top;\n",
       "    }\n",
       "\n",
       "    .dataframe thead th {\n",
       "        text-align: right;\n",
       "    }\n",
       "</style>\n",
       "<table border=\"1\" class=\"dataframe\">\n",
       "  <thead>\n",
       "    <tr style=\"text-align: right;\">\n",
       "      <th></th>\n",
       "      <th>label</th>\n",
       "      <th>num_preg</th>\n",
       "      <th>PGC</th>\n",
       "      <th>DBP</th>\n",
       "      <th>tricept</th>\n",
       "      <th>insulin</th>\n",
       "      <th>BMI</th>\n",
       "      <th>ped_func</th>\n",
       "      <th>age</th>\n",
       "    </tr>\n",
       "  </thead>\n",
       "  <tbody>\n",
       "    <tr>\n",
       "      <th>0</th>\n",
       "      <td>1</td>\n",
       "      <td>0.470588</td>\n",
       "      <td>0.758794</td>\n",
       "      <td>0.639344</td>\n",
       "      <td>0.507937</td>\n",
       "      <td>0.35</td>\n",
       "      <td>0.639344</td>\n",
       "      <td>0.187020</td>\n",
       "      <td>0.250000</td>\n",
       "    </tr>\n",
       "    <tr>\n",
       "      <th>1</th>\n",
       "      <td>1</td>\n",
       "      <td>0.235294</td>\n",
       "      <td>0.663317</td>\n",
       "      <td>0.000000</td>\n",
       "      <td>0.000000</td>\n",
       "      <td>0.00</td>\n",
       "      <td>0.490313</td>\n",
       "      <td>0.095645</td>\n",
       "      <td>0.033333</td>\n",
       "    </tr>\n",
       "    <tr>\n",
       "      <th>2</th>\n",
       "      <td>0</td>\n",
       "      <td>0.058824</td>\n",
       "      <td>0.467337</td>\n",
       "      <td>0.459016</td>\n",
       "      <td>0.174603</td>\n",
       "      <td>0.00</td>\n",
       "      <td>0.335320</td>\n",
       "      <td>0.144748</td>\n",
       "      <td>0.016667</td>\n",
       "    </tr>\n",
       "    <tr>\n",
       "      <th>3</th>\n",
       "      <td>0</td>\n",
       "      <td>0.058824</td>\n",
       "      <td>0.547739</td>\n",
       "      <td>0.311475</td>\n",
       "      <td>0.285714</td>\n",
       "      <td>0.20</td>\n",
       "      <td>0.344262</td>\n",
       "      <td>0.140478</td>\n",
       "      <td>0.083333</td>\n",
       "    </tr>\n",
       "    <tr>\n",
       "      <th>4</th>\n",
       "      <td>1</td>\n",
       "      <td>0.176471</td>\n",
       "      <td>0.869347</td>\n",
       "      <td>0.688525</td>\n",
       "      <td>0.523810</td>\n",
       "      <td>0.79</td>\n",
       "      <td>0.532042</td>\n",
       "      <td>0.076857</td>\n",
       "      <td>0.016667</td>\n",
       "    </tr>\n",
       "  </tbody>\n",
       "</table>\n",
       "</div>"
      ],
      "text/plain": [
       "   label  num_preg       PGC       DBP   tricept  insulin       BMI  ped_func  \\\n",
       "0      1  0.470588  0.758794  0.639344  0.507937     0.35  0.639344  0.187020   \n",
       "1      1  0.235294  0.663317  0.000000  0.000000     0.00  0.490313  0.095645   \n",
       "2      0  0.058824  0.467337  0.459016  0.174603     0.00  0.335320  0.144748   \n",
       "3      0  0.058824  0.547739  0.311475  0.285714     0.20  0.344262  0.140478   \n",
       "4      1  0.176471  0.869347  0.688525  0.523810     0.79  0.532042  0.076857   \n",
       "\n",
       "        age  \n",
       "0  0.250000  \n",
       "1  0.033333  \n",
       "2  0.016667  \n",
       "3  0.083333  \n",
       "4  0.016667  "
      ]
     },
     "execution_count": 37,
     "metadata": {},
     "output_type": "execute_result"
    }
   ],
   "source": [
    "df_train.head()"
   ]
  },
  {
   "cell_type": "code",
   "execution_count": 38,
   "metadata": {},
   "outputs": [],
   "source": [
    "X_train, y_train, features = load_data(df_train)\n",
    "X_test, y_test, _ = load_data(df_test)\n",
    "\n",
    "X = {'train': X_train, 'test': X_test}\n",
    "y = {'train': y_train, 'test': y_test}"
   ]
  },
  {
   "cell_type": "code",
   "execution_count": 39,
   "metadata": {},
   "outputs": [
    {
     "data": {
      "text/plain": [
       "array(['num_preg', 'PGC', 'DBP', 'tricept', 'insulin', 'BMI', 'ped_func',\n",
       "       'age'], dtype=object)"
      ]
     },
     "execution_count": 39,
     "metadata": {},
     "output_type": "execute_result"
    }
   ],
   "source": [
    "features"
   ]
  },
  {
   "cell_type": "markdown",
   "metadata": {},
   "source": [
    "### I. Logistic regression method using SGD\n",
    "\n",
    "\n"
   ]
  },
  {
   "cell_type": "markdown",
   "metadata": {},
   "source": [
    "### P1.1   \n",
    "(*40 points*) P1.1 Implement a logistic regression method using SGD. You may assume that the data is randomly ordered. "
   ]
  },
  {
   "cell_type": "code",
   "execution_count": 40,
   "metadata": {},
   "outputs": [],
   "source": [
    "from P03 import LogisticRegressionSGD"
   ]
  },
  {
   "cell_type": "code",
   "execution_count": 41,
   "metadata": {},
   "outputs": [],
   "source": [
    "iterations = 100000\n",
    "lr = 0.8\n",
    "number_of_ensemble = 1000"
   ]
  },
  {
   "cell_type": "code",
   "execution_count": 42,
   "metadata": {},
   "outputs": [],
   "source": [
    "logistic_regression = LogisticRegressionSGD(lr, iterations, number_of_ensemble)\n",
    "w = logistic_regression.fit(X, y)"
   ]
  },
  {
   "cell_type": "code",
   "execution_count": 43,
   "metadata": {},
   "outputs": [
    {
     "name": "stdout",
     "output_type": "stream",
     "text": [
      "[  4.4679436   12.69103667  -0.62028873  -0.56351199  -1.36785783\n",
      "   6.95546721   2.732417     0.87419461 -12.09976783]\n"
     ]
    }
   ],
   "source": [
    "print(w)"
   ]
  },
  {
   "cell_type": "markdown",
   "metadata": {},
   "source": [
    "### P1.2"
   ]
  },
  {
   "cell_type": "markdown",
   "metadata": {},
   "source": [
    "(*10 points*) P1.2 Plot $\\bar L$ every 100 iterations, e.g., [100, 200, 300,...], defined as\n",
    "\n",
    "$\\begin{equation} \\bar L(T) = \\frac{1}{T}\\sum_{t=1}^{T} (\\hat y^t - y^t)^2 \\end{equation}$,   \n",
    "where $T$ is the number of iterations and $\\hat y^t$ (either 0 or 1) is the predicted label for sample $\\bf{x}^t$ using the weights $\\bf{w}^{t-1}$. \n",
    "\n",
    "> Initialize the weight vector $w$ and the bias $w_0$ to 0.    \n",
    "> Learning rate = 0.8.    \n",
    "> Number of iterations = 100,000.\n"
   ]
  },
  {
   "cell_type": "code",
   "execution_count": 44,
   "metadata": {},
   "outputs": [
    {
     "data": {
      "text/plain": [
       "Text(0, 0.5, 'Average loss')"
      ]
     },
     "execution_count": 44,
     "metadata": {},
     "output_type": "execute_result"
    },
    {
     "data": {
      "image/png": "[encoded data removed]",
      "text/plain": [
       "<Figure size 720x432 with 1 Axes>"
      ]
     },
     "metadata": {
      "needs_background": "light"
     },
     "output_type": "display_data"
    }
   ],
   "source": [
    "# plot average loss L over the number of steps T\n",
    "fig = plt.figure(figsize=(10,6))\n",
    "plt.plot(np.arange(len(logistic_regression.avg_loss_over_itr)) * 100, \n",
    "         logistic_regression.avg_loss_over_itr)\n",
    "plt.title('Average loss over iterations on training set', fontsize=20)\n",
    "plt.xlabel('Time step', fontsize=20)\n",
    "plt.ylabel('Average loss', fontsize=20)"
   ]
  },
  {
   "cell_type": "markdown",
   "metadata": {},
   "source": [
    "### P1.3"
   ]
  },
  {
   "cell_type": "markdown",
   "metadata": {},
   "source": [
    "(*10 points*) P1.3 Use the model weights to predict whether each patient in the test set has diabetes, for every 100 steps. Plot average of squared errors of your prediction.\n",
    "\n",
    "<center>$\\begin{equation} TestError = \\frac{1}{N_{test}}\\sum_{i=1}^{N_{test}} (\\hat y^i - y^i)^2 \\end{equation}$</center>"
   ]
  },
  {
   "cell_type": "code",
   "execution_count": 45,
   "metadata": {},
   "outputs": [
    {
     "data": {
      "text/plain": [
       "(268,)"
      ]
     },
     "execution_count": 45,
     "metadata": {},
     "output_type": "execute_result"
    },
    {
     "data": {
      "image/png": "[encoded data removed]",
      "text/plain": [
       "<Figure size 720x432 with 1 Axes>"
      ]
     },
     "metadata": {
      "needs_background": "light"
     },
     "output_type": "display_data"
    }
   ],
   "source": [
    "# plot sum of squared error over iterations\n",
    "plt.figure(figsize=(10,6))\n",
    "plt.plot(np.arange(len(logistic_regression.test_error_over_itr)) * 100, \n",
    "         logistic_regression.test_error_over_itr)\n",
    "plt.title('Test error over iterations on test set', fontsize=20)\n",
    "plt.xlabel('Time step', fontsize=20)\n",
    "plt.ylabel('Squared error', fontsize=20)\n",
    "\n",
    "y_test.shape"
   ]
  },
  {
   "cell_type": "markdown",
   "metadata": {},
   "source": [
    "### II. Model evaluation and feature interpretations \n"
   ]
  },
  {
   "cell_type": "markdown",
   "metadata": {},
   "source": [
    "### P2.1   \n",
    "(*10 points*) P2.1 Using the model after 100,000 iterations, measure test accuracy. Accuracy is the fraction of predictions our model got right. That is, it is computed by Number of correct predictions / Total number of predictions."
   ]
  },
  {
   "cell_type": "code",
   "execution_count": 46,
   "metadata": {},
   "outputs": [
    {
     "name": "stdout",
     "output_type": "stream",
     "text": [
      "0.6940298507462687\n"
     ]
    }
   ],
   "source": [
    "accuracy = logistic_regression.get_accuracy(X['test'], y['test'], w)\n",
    "print(accuracy)"
   ]
  },
  {
   "cell_type": "markdown",
   "metadata": {},
   "source": [
    "### P2.2"
   ]
  },
  {
   "cell_type": "markdown",
   "metadata": {},
   "source": [
    "(*5 points*) P2.2 SGD oscillates around a solution (noisy convergence). In order to minimize risk of picking bad weights, we typically use an average model. Measure test accuracy again, using an average model over the weights for the last 1000 iterations\n"
   ]
  },
  {
   "cell_type": "code",
   "execution_count": 47,
   "metadata": {},
   "outputs": [
    {
     "data": {
      "text/plain": [
       "array([  4.0301275 ,  12.45431846,  -0.96331388,   0.03278824,\n",
       "        -1.2966043 ,   7.06309156,   2.48439912,   0.02340241,\n",
       "       -12.64988036])"
      ]
     },
     "execution_count": 47,
     "metadata": {},
     "output_type": "execute_result"
    }
   ],
   "source": [
    "logistic_regression.w_ensemble"
   ]
  },
  {
   "cell_type": "code",
   "execution_count": 48,
   "metadata": {},
   "outputs": [
    {
     "name": "stdout",
     "output_type": "stream",
     "text": [
      "0.7276119402985075\n"
     ]
    }
   ],
   "source": [
    "accuracy_ensemble = logistic_regression.get_accuracy(\n",
    "    X['test'], y['test'], logistic_regression.w_ensemble)\n",
    "print(accuracy_ensemble)"
   ]
  },
  {
   "cell_type": "markdown",
   "metadata": {},
   "source": [
    "### P2.3"
   ]
  },
  {
   "cell_type": "markdown",
   "metadata": {},
   "source": [
    "\n",
    "(*5 points*) P2.3 Report the weights of following features, $\\texttt{BMI}$, $\\texttt{insulin}$, and $\\texttt{PGC}$"
   ]
  },
  {
   "cell_type": "code",
   "execution_count": 49,
   "metadata": {},
   "outputs": [],
   "source": [
    "from P03 import get_indices_of_fields"
   ]
  },
  {
   "cell_type": "code",
   "execution_count": 50,
   "metadata": {},
   "outputs": [],
   "source": [
    "fields = np.array(['BMI', 'insulin', 'PGC'])\n",
    "indices = get_indices_of_fields(fields, features)"
   ]
  },
  {
   "cell_type": "code",
   "execution_count": 51,
   "metadata": {},
   "outputs": [
    {
     "data": {
      "text/plain": [
       "array([ 7.06309156, -1.2966043 , 12.45431846])"
      ]
     },
     "execution_count": 51,
     "metadata": {},
     "output_type": "execute_result"
    }
   ],
   "source": [
    "logistic_regression.w_ensemble[indices]"
   ]
  },
  {
   "cell_type": "markdown",
   "metadata": {},
   "source": [
    "\n",
    "# Result Analysis and Discussion (20 points)\n",
    "\n"
   ]
  },
  {
   "cell_type": "markdown",
   "metadata": {},
   "source": [
    "For result analysis and discussion, you can use all functions defined above. Also you can make your own functions or scripts.\n",
    "\n",
    "Your answer must include the analysis about:\n",
    "\n",
    "- Difference between Stochastic Gradient Descent and Batch Gradient Descent.\n",
    "- Influence of each feature in classifying diabetes.\n",
    "- Effect of applying the ensemble technique."
   ]
  },
  {
   "cell_type": "markdown",
   "metadata": {},
   "source": [
    "**Difference between Stochastic Gradient Ascent/Descent and Batch Gradient Ascent/Descent**\n",
    "\n",
    "Note that Gradient Ascent and Descent are essentially the same except for the direction of convergence, so we would use them interchangebly here. To explain the difference between Stochastic Gradient Ascent (SGA) and Batch Gradient Ascent (BGA), we first state the common weight update equation:\n",
    "\n",
    "\\\\({ w }_{ j }^{ (t+1) }={ w }_{ j }^{ (t) }+\\eta \\frac { \\partial ll(w) }{ \\partial { w }_{ j } }\\\\)\n",
    "\n",
    "**(1)** Using the example of non-regularized Logistic Regression, Batch Gradient Ascent (BGA) has \n",
    "\\\\(\\frac { \\partial ll(w) }{ \\partial { w }_{ j } } = {\\sum _{ i=1 }^{ N }}{ h }_{ j }({ x }_{ i })(I[y_{i}=+1] -P(y=+1|{ x }_{ i },{ w }^{ (t) }))\\\\). To compute the partial gradient of the cost function, we have to sum the gradient contribution of **all N** data samples.\n",
    "However, Stochastic Gradient Ascent (SGA) has \\\\(\\frac { \\partial ll(w) }{ \\partial { w }_{ j } } = { h }_{ j }({ x }_{ i })(I[y_{i}=+1] -P(y=+1|{ x }_{ i },{ w }^{ (t) }))\\\\). To compute the partial gradient, we only need to find the gradient contribution of **one** randomly chosen data sample, \\\\({ x }_{ i }\\\\). This works because the gradient contribution of most data samples are directed towards convergence (max for SGA, min for SGD). While it is possible that we pick a data sample whose gradient contribution is opposite from convergence, it is guaranteed that the **net contribution** is towards convergence (on average, make progress). Given enough iterations, SGA/SGD will eventually find its way to the max/min, just like how BGA/BGD does.\n",
    "\n",
    "**(2)** Because of this, every step of BGA/BGD in non-regualarized Logistic Regression requires a time complexity of O(ND), where N = number of data samples and D = number of features. If we have a very large amount of data sample, say 10 million, it would take a very long time to compute the gradient contribution from every sample just to take one step towards convergence. However, in the case of SGA/SGD, the time complexity is simply O(D), independent of N. This means that SGA/SGD will run much faster per iteration as compared to BGA/BGD.\n",
    "\n",
    "**(3)** Because SGA/SGD is only using one data sample at every step, its path to the max/min is noiser than that of SGA/SGD. SGA/SGD will eventually oscillate around the optimal weights, hence a need to compute the average weights of the last 1000 iteration as seen in P2.2, just in case we pick a weight relatively 'farther' from the optimal.\n",
    "\n",
    "**(4)** SGA/SGD requires the training data to be shuffled randomly first. "
   ]
  },
  {
   "cell_type": "markdown",
   "metadata": {},
   "source": [
    "**Influence of each feature in classifying diabetes**\n",
    "\n",
    "The final computed weights for each feature is illustrated in the graph as follows:"
   ]
  },
  {
   "cell_type": "code",
   "execution_count": 52,
   "metadata": {},
   "outputs": [
    {
     "name": "stdout",
     "output_type": "stream",
     "text": [
      "num_preg: 4.030127500950709\n",
      "PGC: 12.454318455647616\n",
      "DBP: -0.963313879163511\n",
      "tricept: 0.032788238792955206\n",
      "insulin: -1.2966043025720317\n",
      "BMI: 7.0630915564304155\n",
      "ped_func: 2.4843991210808456\n",
      "age: 0.0234024065747431\n"
     ]
    },
    {
     "data": {
      "image/png": "[encoded data removed]",
      "text/plain": [
       "<Figure size 720x432 with 1 Axes>"
      ]
     },
     "metadata": {
      "needs_background": "light"
     },
     "output_type": "display_data"
    }
   ],
   "source": [
    "plt.figure(figsize=(10,6))\n",
    "plt.plot(features, logistic_regression.w_ensemble[0:-1])\n",
    "plt.xlabel('Feature', fontsize=20)\n",
    "plt.ylabel('Weight', fontsize=20)\n",
    "for i in range(len(features)): print(features[i] + \": \" + str(logistic_regression.w_ensemble[i])) "
   ]
  },
  {
   "cell_type": "markdown",
   "metadata": {},
   "source": [
    "It can be seen that the weights of BMI and PGC are the 2 highest amongst all features. We can thus infer that they are significant features in predicting the likelihood of diabetes in a patient. The higher the values of these features, the higher the score is, and the higher the sigmoid output = probability of positive diabeties is. On the contrary, the small and negative weights of insulin and DBP tell us that they are insignificant in the prediction of diabeties. It may be the case that they reduce the likelihood of diabetes."
   ]
  },
  {
   "cell_type": "markdown",
   "metadata": {},
   "source": [
    "**Effect of applying the ensemble technique**\n",
    "\n",
    "As aforementioned, SGA/SGD will oscillate around the optimal weights; some of the iteration may produce good weights, while others may produce bad weights. There is a possibility that SGA/SGD will end with bad weights. As such, we compute the average weights in the last N iterations, where N is the number of ensemble, and use it as our final weights instead. Before ensemble, the model correctly predicted 69.4% of the test data as denoted by 'accuracy' under P2.1. However, after applying ensemble and using the average weights, the model correctly predicted 72.8% of the test data (under P2.2), an improvement of 3.4%. This shows that it is better to use the average model, as it leads to higher accuracy and hence better prediction."
   ]
  }
 ],
 "metadata": {
  "kernelspec": {
   "display_name": "Python 3",
   "language": "python",
   "name": "python3"
  },
  "language_info": {
   "codemirror_mode": {
    "name": "ipython",
    "version": 3
   },
   "file_extension": ".py",
   "mimetype": "text/x-python",
   "name": "python",
   "nbconvert_exporter": "python",
   "pygments_lexer": "ipython3",
   "version": "3.7.3"
  }
 },
 "nbformat": 4,
 "nbformat_minor": 2
}
