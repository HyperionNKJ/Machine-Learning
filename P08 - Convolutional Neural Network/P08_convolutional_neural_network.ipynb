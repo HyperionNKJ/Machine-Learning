{
 "cells": [
  {
   "cell_type": "markdown",
   "metadata": {
    "colab_type": "text",
    "id": "hfvE9kKd8_RZ"
   },
   "source": [
    "> ### EEE3314-02: Introduction to Artificial Intelligence\n",
    "\n",
    "# Assignment \\# VIII: Convolutional Neural Networks"
   ]
  },
  {
   "cell_type": "markdown",
   "metadata": {
    "colab_type": "text",
    "id": "VTvw8_Kl8_Rb"
   },
   "source": [
    "<div style=\"text-align: right\"> **Due date: Dec. 21, 2019.** </div> \n",
    "<div style=\"text-align: right\"> **Please upload your file @ yscec by 8 PM in the form of [ID_Name.zip].** </div> \n",
    "<div style=\"text-align: right\"> Wonkyung Lee (이원경): <a href=\"mailto:leewk92@yonsei.ac.kr\">leewk92@yonsei.ac.kr</a> </div>\n",
    "<div style=\"text-align: right\"> Geon Lee (이건): <a href=\"mailto:2015142195@yonsei.ac.kr\"> 2015142195@yonsei.ac.kr</a> </div>"
   ]
  },
  {
   "cell_type": "markdown",
   "metadata": {
    "colab_type": "text",
    "id": "N0bQ_I588_Rc"
   },
   "source": [
    "### *Assignement Instructions:*\n",
    "- Write a program implementing a particular algorithm to solve a given problem.   \n",
    "- <h4><span style=\"color:red\">**Report and discuss your results. Analyze the algorithm, theoretically and empirically. **</span> </h4>\n",
    "\n",
    "### *Collaboration policy:*\n",
    "- You may discuss the questions.   \n",
    "- Each student writes their own answers.   \n",
    "- **Write on your homework anyone with whom you collaborate.**   \n",
    "- Each student must write their own code for the programming part (**if not you will get a F grade**)."
   ]
  },
  {
   "cell_type": "markdown",
   "metadata": {
    "colab_type": "text",
    "id": "5BBtQzAA8_Rd"
   },
   "source": [
    "<h2><span style=\"color:blue\">2019843554 Kai Jun Neo</span> </h2>"
   ]
  },
  {
   "cell_type": "code",
   "execution_count": 56,
   "metadata": {
    "colab": {
     "base_uri": "https://localhost:8080/",
     "height": 67
    },
    "colab_type": "code",
    "id": "erMtw9VV8_Rd",
    "outputId": "bdbcfac6-28c2-4ae0-8386-a9efce3c4099"
   },
   "outputs": [
    {
     "name": "stdout",
     "output_type": "stream",
     "text": [
      "The autoreload extension is already loaded. To reload it, use:\n",
      "  %reload_ext autoreload\n",
      "This code is written at 2019-12-20 08:17:55.740822\n"
     ]
    }
   ],
   "source": [
    "%load_ext autoreload\n",
    "%autoreload 2\n",
    "\n",
    "import datetime\n",
    "print(\"This code is written at \" + str(datetime.datetime.now()))"
   ]
  },
  {
   "cell_type": "code",
   "execution_count": 57,
   "metadata": {
    "colab": {
     "base_uri": "https://localhost:8080/",
     "height": 34
    },
    "colab_type": "code",
    "id": "PbEFrElMiy7k",
    "outputId": "a583434b-9f79-44de-8b7c-4a66c9ccb301"
   },
   "outputs": [
    {
     "name": "stdout",
     "output_type": "stream",
     "text": [
      "Drive already mounted at /content/drive; to attempt to forcibly remount, call drive.mount(\"/content/drive\", force_remount=True).\n"
     ]
    }
   ],
   "source": [
    "from google.colab import drive\n",
    "drive.mount('/content/drive')"
   ]
  },
  {
   "cell_type": "code",
   "execution_count": 58,
   "metadata": {
    "colab": {
     "base_uri": "https://localhost:8080/",
     "height": 34
    },
    "colab_type": "code",
    "id": "GjgpW1bniy7n",
    "outputId": "809d3c1d-6227-4124-f872-24f3bb2851d3"
   },
   "outputs": [
    {
     "name": "stdout",
     "output_type": "stream",
     "text": [
      "/content/drive/My Drive/Colab\n"
     ]
    }
   ],
   "source": [
    "cd /content/drive/My Drive/Colab"
   ]
  },
  {
   "cell_type": "markdown",
   "metadata": {
    "colab_type": "text",
    "id": "-iHkGb-Fiy7q"
   },
   "source": [
    "# PyTorch Tutorial\n",
    "PyTorch is one of the latest deep learning framework developed by Facebook, and open sourced on GitHub since 2017. You can read more about its development in the research paper \"Automatic Differentiation in PyTorch.\" PyTorch is gaining popularity for its simplicity, ease of use, dynamic computational graph and efficient memory usage. (reference : https://builtin.com/data-science/pytorch-vs-tensorflow)"
   ]
  },
  {
   "cell_type": "markdown",
   "metadata": {
    "colab_type": "text",
    "id": "R1g6lyZL8_Rl"
   },
   "source": [
    "## Example: PyTorch implementation for Assignment 7   "
   ]
  },
  {
   "cell_type": "markdown",
   "metadata": {
    "colab_type": "text",
    "id": "7G3Ji2FJiy7r"
   },
   "source": [
    "Recall assignment 7 which contains a classification problem of *moons* dataset from sklearn.datasets. In assignment 7, we implemented forward and backward propagation using numpy and trained a neural network with the following configuration.\n",
    "- Model & training settings of assignment 7.\n",
    " - Input size: 2\n",
    " - the number ot hidden units : [10, 10] \n",
    " - Output size: 2\n",
    " - Activations : [ReLU, Sigmoid, Softmax]\n",
    " - Loss function: Cross entropy loss\n",
    " - Optimizer: Gradient descent\n",
    " - Learning rate = 0.001\n",
    " - Number of epochs = 50000\n",
    " \n",
    "Let's reproduce it by using pytorch framework. First, load *moons* dataset from sklearn.dataset and visualize the samples."
   ]
  },
  {
   "cell_type": "code",
   "execution_count": 0,
   "metadata": {
    "colab": {},
    "colab_type": "code",
    "id": "G7yZZxzI8_Rm"
   },
   "outputs": [],
   "source": [
    "from tqdm import tqdm_notebook\n",
    "import numpy as np\n",
    "import matplotlib.pyplot as plt\n",
    "import sklearn.datasets\n",
    "# import os\n",
    "# os.environ[\"CUDA_VISIBLE_DEVICES\"] = \"\" # We use CPUs for training models.\n",
    "\n",
    "np.random.seed(0)\n",
    "# dataset\n",
    "X, y = sklearn.datasets.make_moons(300, noise = 0.25)"
   ]
  },
  {
   "cell_type": "code",
   "execution_count": 60,
   "metadata": {
    "colab": {
     "base_uri": "https://localhost:8080/",
     "height": 282
    },
    "colab_type": "code",
    "id": "rG_VATX-8_Ro",
    "outputId": "53779160-0fc9-4491-d029-5d3f8f0ca149"
   },
   "outputs": [
    {
     "data": {
      "text/plain": [
       "<matplotlib.collections.PathCollection at 0x7fde667c7ac8>"
      ]
     },
     "execution_count": 60,
     "metadata": {
      "tags": []
     },
     "output_type": "execute_result"
    },
    {
     "data": {
      "image/png": "[encoded data removed]",
      "text/plain": [
       "<Figure size 432x288 with 1 Axes>"
      ]
     },
     "metadata": {
      "tags": []
     },
     "output_type": "display_data"
    }
   ],
   "source": [
    "plt.scatter(X[:,0], X[:,1], s = 40, c=y, cmap=plt.cm.RdYlGn)"
   ]
  },
  {
   "cell_type": "code",
   "execution_count": 0,
   "metadata": {
    "colab": {},
    "colab_type": "code",
    "id": "bvIw3u8k8_Rq"
   },
   "outputs": [],
   "source": [
    "from P08 import plot_decision_boundary, get_accuracy, get_prediction\n",
    "import torch\n",
    "import torch.optim as optim\n",
    "import torch.nn as nn\n",
    "from torchsummary import summary\n",
    "\n",
    "torch.manual_seed(0)\n",
    "if torch.cuda.is_available():\n",
    "    torch.cuda.manual_seed_all(0)\n"
   ]
  },
  {
   "cell_type": "markdown",
   "metadata": {
    "colab_type": "text",
    "id": "3LeFeOTWiy70"
   },
   "source": [
    "Following cell shows how to define a neural network with three layers in PyTorch. Function *nn.Linear()* constructs a fully connected layer with arguments *in_features* and *out_features*, which are dimensions of input and output, respectively. *forward* function defines flow of an input tensor *x* and an output tensor which has to be returned. Note that a ReLU and a sigmoid activations are used for the first and second layers."
   ]
  },
  {
   "cell_type": "code",
   "execution_count": 0,
   "metadata": {
    "colab": {},
    "colab_type": "code",
    "id": "lzQcys7m8_Rs"
   },
   "outputs": [],
   "source": [
    "class MoonMLP(nn.Module):\n",
    "    def __init__(self):\n",
    "        super(MoonMLP, self).__init__()\n",
    "        self.fc1 = nn.Linear(in_features=2, out_features=10)\n",
    "        self.fc2 = nn.Linear(in_features=10, out_features=10)\n",
    "        self.fc3 = nn.Linear(in_features=10, out_features=2)\n",
    "\n",
    "    def forward(self, x):\n",
    "        x = torch.relu(self.fc1(x))\n",
    "        x = torch.sigmoid(self.fc2(x))\n",
    "        logits = self.fc3(x) # It doesn't need to apply softmax activation because objective function \"torch.nn.CrossEntropyLoss\" contains softmax function for the logits. \n",
    "        return logits"
   ]
  },
  {
   "cell_type": "markdown",
   "metadata": {
    "colab_type": "text",
    "id": "N6PUVi7H8_Ru"
   },
   "source": [
    "> torchsummary library shows the number of total parameters and output shape of each layer. It's really helpful when debugging your model."
   ]
  },
  {
   "cell_type": "code",
   "execution_count": 63,
   "metadata": {
    "colab": {
     "base_uri": "https://localhost:8080/",
     "height": 286
    },
    "colab_type": "code",
    "id": "8gmbFtPc8_Ru",
    "outputId": "ad08da35-21c8-4865-8697-f40c74cf7217"
   },
   "outputs": [
    {
     "name": "stdout",
     "output_type": "stream",
     "text": [
      "----------------------------------------------------------------\n",
      "        Layer (type)               Output Shape         Param #\n",
      "================================================================\n",
      "            Linear-1                [-1, 1, 10]              30\n",
      "            Linear-2                [-1, 1, 10]             110\n",
      "            Linear-3                 [-1, 1, 2]              22\n",
      "================================================================\n",
      "Total params: 162\n",
      "Trainable params: 162\n",
      "Non-trainable params: 0\n",
      "----------------------------------------------------------------\n",
      "Input size (MB): 0.00\n",
      "Forward/backward pass size (MB): 0.00\n",
      "Params size (MB): 0.00\n",
      "Estimated Total Size (MB): 0.00\n",
      "----------------------------------------------------------------\n"
     ]
    }
   ],
   "source": [
    "device = torch.device(\"cuda\" if torch.cuda.is_available() else \"cpu\")\n",
    "moon_mlp_model = MoonMLP() # instanciation\n",
    "moon_mlp_model.to(device) # allocate model to device (gpu if gpu is available else cpu)\n",
    "summary(model=moon_mlp_model, input_size=(1,2))"
   ]
  },
  {
   "cell_type": "markdown",
   "metadata": {
    "colab_type": "text",
    "id": "BC4C7pfP8_Rw"
   },
   "source": [
    "Next, we have to define an optimizer and a loss function. PyTorch provides modules for popular optimizers and loss functions. Here are official documentations for [optim.SGD](https://pytorch.org/docs/master/optim.html#torch.optim.SGD) and [torch.nn.CrossEntropyLoss](https://pytorch.org/docs/master/nn.html#torch.nn.CrossEntropyLoss).\n"
   ]
  },
  {
   "cell_type": "code",
   "execution_count": 0,
   "metadata": {
    "colab": {},
    "colab_type": "code",
    "id": "GUU-C5L98_Rw"
   },
   "outputs": [],
   "source": [
    "learning_rate = 0.001\n",
    "\n",
    "# define the optimizer\n",
    "optimizer = optim.SGD(moon_mlp_model.parameters(), lr=learning_rate)\n",
    "\n",
    "# define the loss function\n",
    "criterion = torch.nn.CrossEntropyLoss(reduction='sum')"
   ]
  },
  {
   "cell_type": "markdown",
   "metadata": {
    "colab_type": "text",
    "id": "E8IlWsKc8_Ry"
   },
   "source": [
    "Finally, we can train our model. For every iteration, training model includes five steps in PyTorch.\n",
    "1. Initializing gradients to zero\n",
    "2. Forward propagation\n",
    "3. Calculating a loss value\n",
    "4. Calculating gradients through a backward propagation\n",
    "5. Updating model parameters \n"
   ]
  },
  {
   "cell_type": "code",
   "execution_count": 65,
   "metadata": {
    "colab": {
     "base_uri": "https://localhost:8080/",
     "height": 66,
     "referenced_widgets": [
      "1306184959d7492f97e3c89ae3a4a0a2",
      "c7106c7cfc11497fbb5166be368a5e39",
      "01524962b3594b71aa6ac4cf9a67d440",
      "57b9b4c9a1434214ba432ef588799e2c",
      "622b78e9cef041b09aca2e46139fe7ae",
      "e27e8d5d46604191a3769e68a9c69ed6",
      "018630e3fb2543d39174e5146d71897f",
      "2c77199197e1490dbd3c5dd60157caaa"
     ]
    },
    "colab_type": "code",
    "id": "-Lp9pKbEiy8A",
    "outputId": "fb9f43c9-9290-47af-a81b-f12d1e8c1dd9"
   },
   "outputs": [
    {
     "data": {
      "application/vnd.jupyter.widget-view+json": {
       "model_id": "1306184959d7492f97e3c89ae3a4a0a2",
       "version_major": 2,
       "version_minor": 0
      },
      "text/plain": [
       "HBox(children=(IntProgress(value=0, max=50000), HTML(value='')))"
      ]
     },
     "metadata": {
      "tags": []
     },
     "output_type": "display_data"
    },
    {
     "name": "stdout",
     "output_type": "stream",
     "text": [
      "\n"
     ]
    }
   ],
   "source": [
    "total_epoch = 50000\n",
    "# conver numpy to torch.tensor type\n",
    "X_tensor = torch.Tensor(X)\n",
    "y_tensor = torch.LongTensor(y)\n",
    "\n",
    "X_tensor = X_tensor.to(device)\n",
    "y_tensor = y_tensor.to(device)\n",
    "\n",
    "tbar = tqdm_notebook(range(total_epoch), total=total_epoch)\n",
    "\n",
    "# set the model to train-mode. \n",
    "moon_mlp_model.train()\n",
    "for epoch in tbar:\n",
    "    \n",
    "    # step 1) initialize gradients to zero \n",
    "    optimizer.zero_grad()\n",
    "    \n",
    "    # step 2) forward propagation\n",
    "    output = moon_mlp_model(X_tensor)\n",
    "    \n",
    "    # step 3) calculate loss\n",
    "    loss = criterion(output, y_tensor)\n",
    "    \n",
    "    # step 4) calculate gradients through a backward propagation\n",
    "    loss.backward()\n",
    "    \n",
    "    # step 5) update model parameters\n",
    "    optimizer.step()\n",
    "    \n",
    "    # print the progress\n",
    "    if epoch % 5000 == 4999:\n",
    "        # set the model to evaluation-mode\n",
    "        moon_mlp_model.eval() \n",
    "        pred = get_prediction(output)\n",
    "        accuracy = get_accuracy(pred, y_tensor)\n",
    "    \n",
    "        desc = '%d-th epoch, loss: %.2f, accuracy: %.2f'%(epoch+1, loss.item(), accuracy)\n",
    "        tbar.set_description(desc)\n",
    "        "
   ]
  },
  {
   "cell_type": "markdown",
   "metadata": {
    "colab_type": "text",
    "id": "vIoiqzX1iy8E"
   },
   "source": [
    "> *tqdm* makes it convinient to check a progress of 'for or while loop'. \n"
   ]
  },
  {
   "cell_type": "markdown",
   "metadata": {
    "colab_type": "text",
    "id": "o1kC5OSd8_R0"
   },
   "source": [
    "After 50000 epochs, we find that an accuracy of our model becomes 0.99. Let's visualize a decision boundary similar to the last assignment."
   ]
  },
  {
   "cell_type": "code",
   "execution_count": 66,
   "metadata": {
    "colab": {
     "base_uri": "https://localhost:8080/",
     "height": 266
    },
    "colab_type": "code",
    "id": "9COgi2Uh8_R0",
    "outputId": "0307b863-255e-411b-c20d-c27cf347d5af"
   },
   "outputs": [
    {
     "data": {
      "image/png": "[encoded data removed]",
      "text/plain": [
       "<Figure size 432x288 with 1 Axes>"
      ]
     },
     "metadata": {
      "tags": []
     },
     "output_type": "display_data"
    }
   ],
   "source": [
    "plot_decision_boundary(moon_mlp_model, X, y)"
   ]
  },
  {
   "cell_type": "markdown",
   "metadata": {
    "colab_type": "text",
    "id": "T-ooXUng8_R2"
   },
   "source": [
    "In this example, we briefly studied how to build an MLP model, use pre-defined loss function and optimizer, and train the model via following five steps in PyTorch framework."
   ]
  },
  {
   "cell_type": "markdown",
   "metadata": {
    "colab_type": "text",
    "id": "RHQ4KkIU8_R2"
   },
   "source": [
    "---"
   ]
  },
  {
   "cell_type": "markdown",
   "metadata": {
    "colab_type": "text",
    "id": "EYufH4_b8_R3"
   },
   "source": [
    "# Tetris block classification (100 points)\n",
    "\n",
    "\n",
    "<img src = \"https://i.imgur.com/ZwfnL78.png\">\n",
    "\n",
    "Objectives\n",
    "- Solve Tetris block classification task using MLP and CNNs. Verify the reason why CNNs are better than MLP in tasks of computer vision according to these results. \n",
    "- Verify three properties of CNNs. \n",
    "    - Robust to translation\n",
    "    - Sensitive to scale variation\n",
    "    - Sensitive to rotation variation"
   ]
  },
  {
   "cell_type": "markdown",
   "metadata": {
    "colab_type": "text",
    "id": "yeTvIO0P8_R3"
   },
   "source": [
    "## 1. Prepare datasets\n",
    "For this task, we provide a data generating function which samples different data depending on the arguments: \n",
    "- make_tetris_dataset(data_num, batch_size, random_position, random_scale, random_rotation).\n",
    "- Note that image size and block size are set to 32 and 12 as default. You can find them in P08.py file.\n",
    "\n",
    "Let's visualize dataset for variable arguments settings. \n",
    "\n"
   ]
  },
  {
   "cell_type": "code",
   "execution_count": 0,
   "metadata": {
    "colab": {},
    "colab_type": "code",
    "id": "sFyMX-Sw8_R3"
   },
   "outputs": [],
   "source": [
    "from P08 import make_tetris_dataset, visualize_dataset"
   ]
  },
  {
   "cell_type": "code",
   "execution_count": 68,
   "metadata": {
    "colab": {
     "base_uri": "https://localhost:8080/",
     "height": 94
    },
    "colab_type": "code",
    "id": "z_0h88EE8_R5",
    "outputId": "e3e8eea1-48ba-428f-d422-16b0fe3d7883"
   },
   "outputs": [
    {
     "data": {
      "image/png": "[encoded data removed]",
      "text/plain": [
       "<Figure size 720x216 with 10 Axes>"
      ]
     },
     "metadata": {
      "tags": []
     },
     "output_type": "display_data"
    }
   ],
   "source": [
    "plot_num = 10\n",
    "random_position = False\n",
    "random_scale = False\n",
    "random_rotation = False\n",
    "dataset = make_tetris_dataset(plot_num, 1, random_position, \n",
    "                         random_scale, random_rotation)\n",
    "visualize_dataset(dataset, plot_num)"
   ]
  },
  {
   "cell_type": "code",
   "execution_count": 69,
   "metadata": {
    "colab": {
     "base_uri": "https://localhost:8080/",
     "height": 94
    },
    "colab_type": "code",
    "id": "9bWYRC1d8_R6",
    "outputId": "4e8cdf38-8b97-483d-9a63-4f5abc33c58a",
    "scrolled": true
   },
   "outputs": [
    {
     "data": {
      "image/png": "[encoded data removed]",
      "text/plain": [
       "<Figure size 720x216 with 10 Axes>"
      ]
     },
     "metadata": {
      "tags": []
     },
     "output_type": "display_data"
    }
   ],
   "source": [
    "plot_num = 10\n",
    "random_position = True\n",
    "random_scale = False\n",
    "random_rotation = False\n",
    "dataset = make_tetris_dataset(plot_num, 1, random_position, \n",
    "                         random_scale, random_rotation)\n",
    "visualize_dataset(dataset, plot_num)"
   ]
  },
  {
   "cell_type": "code",
   "execution_count": 70,
   "metadata": {
    "colab": {
     "base_uri": "https://localhost:8080/",
     "height": 94
    },
    "colab_type": "code",
    "id": "wyZk1Ydp8_R8",
    "outputId": "e64e0285-fa75-4bae-f208-32eee6056253",
    "scrolled": true
   },
   "outputs": [
    {
     "data": {
      "image/png": "[encoded data removed]",
      "text/plain": [
       "<Figure size 720x216 with 10 Axes>"
      ]
     },
     "metadata": {
      "tags": []
     },
     "output_type": "display_data"
    }
   ],
   "source": [
    "plot_num = 10\n",
    "random_position = True\n",
    "random_scale = True\n",
    "random_rotation = False\n",
    "dataset = make_tetris_dataset(plot_num, 1, random_position, \n",
    "                         random_scale, random_rotation)\n",
    "visualize_dataset(dataset, plot_num)"
   ]
  },
  {
   "cell_type": "code",
   "execution_count": 71,
   "metadata": {
    "colab": {
     "base_uri": "https://localhost:8080/",
     "height": 94
    },
    "colab_type": "code",
    "id": "qxHy73mD8_R-",
    "outputId": "f6e623fc-2cc0-482a-854e-df8c51290b2e",
    "scrolled": true
   },
   "outputs": [
    {
     "data": {
      "image/png": "[encoded data removed]",
      "text/plain": [
       "<Figure size 720x216 with 10 Axes>"
      ]
     },
     "metadata": {
      "tags": []
     },
     "output_type": "display_data"
    }
   ],
   "source": [
    "plot_num = 10\n",
    "random_position = True\n",
    "random_scale = True\n",
    "random_rotation = True\n",
    "dataset = make_tetris_dataset(plot_num, 1, random_position, \n",
    "                         random_scale, random_rotation)\n",
    "visualize_dataset(dataset, plot_num)"
   ]
  },
  {
   "cell_type": "markdown",
   "metadata": {
    "colab_type": "text",
    "id": "jMbB47qO8_SB"
   },
   "source": [
    "## 2. Multi-Layer Perceptrons (MLP)\n",
    "Train an MLP model to classify the tetris blocks. \n",
    "Build the MLP model and train it by using PyTorch framework. We provide the code template for a training, so all you need to do is only building the model without errors. The configurations for the model are as follows:  \n",
    "- Model & training settings\n",
    "    - architecture = **Linear(50) - ReLU - Linear(25) - ReLU - Linear(7)**\n",
    "    > We denote a fully connected layer with m hidden units by Linear(m)\n",
    "    - loss function = CrossEntropyLoss(reduction='mean')\n",
    "    - optimizer = AdaGrad(learning_rate=0.01)\n",
    "- Train set\n",
    "    - D1 = tetris_dataset(N=2000, batch_size=20, random_position=True, random_scale=False, random_rotation=False)\n",
    "    - D2 = tetris_dataset(N=500, batch_size=20, random_position=True, random_scale=False, random_rotation=False)\n",
    "    - D3 = tetris_dataset(N=100, batch_size=20, random_position=True, random_scale=False, random_rotation=False)\n",
    "    \n",
    "- Test set\n",
    "    - E1 = tetris_dataset(N=200, random_position=True, random_scale=False, random_rotation=False)\n",
    "- Epochs\n",
    "    - 300 for training on D1\n",
    "    - 600 for training on D2\n",
    "    - 1200 for training on D3\n",
    "- **P2.1) Show results in terms of the number of training samples and the test accuracy. (10 points)** \n",
    "    \n"
   ]
  },
  {
   "cell_type": "code",
   "execution_count": 0,
   "metadata": {
    "colab": {},
    "colab_type": "code",
    "id": "evNZH-wX8_SC"
   },
   "outputs": [],
   "source": [
    "from P08 import TetrisMLP, train, evaluate"
   ]
  },
  {
   "cell_type": "code",
   "execution_count": 0,
   "metadata": {
    "colab": {},
    "colab_type": "code",
    "id": "EJEnFhxo8_SD"
   },
   "outputs": [],
   "source": [
    "batch_size = 20\n",
    "random_position = True\n",
    "random_scale = False\n",
    "random_rotation = False\n",
    "\n",
    "train_num = 2000\n",
    "D1 = make_tetris_dataset(train_num, batch_size, random_position, \n",
    "                         random_scale, random_rotation)\n",
    "train_num = 1000\n",
    "D2 = make_tetris_dataset(train_num, batch_size, random_position, \n",
    "                         random_scale, random_rotation)\n",
    "train_num = 500\n",
    "D3 = make_tetris_dataset(train_num, batch_size, random_position, \n",
    "                         random_scale, random_rotation)\n",
    "\n",
    "test_num = 200\n",
    "E1 = make_tetris_dataset(test_num, batch_size, random_position, \n",
    "                         random_scale, random_rotation)"
   ]
  },
  {
   "cell_type": "code",
   "execution_count": 74,
   "metadata": {
    "colab": {
     "base_uri": "https://localhost:8080/",
     "height": 82,
     "referenced_widgets": [
      "2af69d73164e42d4a93eb111d7a6834e",
      "6ab54db6adc4485ea8b46cb31317e886",
      "5cd5296fdc554849bc6e2cba1a9b4952",
      "53ad073955954a08a7a3614c8117f809",
      "23242ca8dcf34186a29d0bd303229e1a",
      "d52c226d51f44e10a8726eb7fc4196b8",
      "67662471852e4dc8a73545ba27541352",
      "93112a8d5e2b48dabfbf1e3de6a100d5"
     ]
    },
    "colab_type": "code",
    "id": "kiH_BqZOiy8s",
    "outputId": "112c7a60-f56d-4f78-ebe6-2c1fc148cd06"
   },
   "outputs": [
    {
     "data": {
      "application/vnd.jupyter.widget-view+json": {
       "model_id": "2af69d73164e42d4a93eb111d7a6834e",
       "version_major": 2,
       "version_minor": 0
      },
      "text/plain": [
       "HBox(children=(IntProgress(value=0, max=300), HTML(value='')))"
      ]
     },
     "metadata": {
      "tags": []
     },
     "output_type": "display_data"
    },
    {
     "name": "stdout",
     "output_type": "stream",
     "text": [
      "\n",
      "0.975\n"
     ]
    }
   ],
   "source": [
    "mlp = TetrisMLP()\n",
    "mlp.to(device)\n",
    "\n",
    "learning_rate = 0.05\n",
    "optimizer = optim.Adagrad(mlp.parameters(), lr=learning_rate)\n",
    "criterion = torch.nn.CrossEntropyLoss(reduction='mean')\n",
    "\n",
    "total_epoch = 300\n",
    "train(model=mlp, optimizer=optimizer, criterion=criterion, \n",
    "      train_dataset=D1, total_epoch=total_epoch)\n",
    "\n",
    "accuracy = evaluate(model=mlp, criterion=criterion, \n",
    "                    test_dataset=E1)\n",
    "print(accuracy)"
   ]
  },
  {
   "cell_type": "code",
   "execution_count": 75,
   "metadata": {
    "colab": {
     "base_uri": "https://localhost:8080/",
     "height": 82,
     "referenced_widgets": [
      "f15eb1bff11b4619be2c9de897362362",
      "1bd4d419f26547f2b410b70cdf0c59fa",
      "6a333347737d4724997fd7e91408be25",
      "df10bd51b311406586375627d229b552",
      "8a8d58c8783145b099f7ebb09031a0d0",
      "7c56e04f80af4dff8265379ad9ea383c",
      "4a9e4c03e418489ab3c970eeb59eac77",
      "073f7b5ba25641bc88193125592ba4c0"
     ]
    },
    "colab_type": "code",
    "id": "KmCxTOxLiy8v",
    "outputId": "31f30fef-8a2c-4fb6-e7f8-1181c67d0316"
   },
   "outputs": [
    {
     "data": {
      "application/vnd.jupyter.widget-view+json": {
       "model_id": "f15eb1bff11b4619be2c9de897362362",
       "version_major": 2,
       "version_minor": 0
      },
      "text/plain": [
       "HBox(children=(IntProgress(value=0, max=600), HTML(value='')))"
      ]
     },
     "metadata": {
      "tags": []
     },
     "output_type": "display_data"
    },
    {
     "name": "stdout",
     "output_type": "stream",
     "text": [
      "\n",
      "0.8600000000000001\n"
     ]
    }
   ],
   "source": [
    "mlp = TetrisMLP()\n",
    "mlp.to(device)\n",
    "\n",
    "learning_rate = 0.05\n",
    "optimizer = optim.Adagrad(mlp.parameters(), lr=learning_rate)\n",
    "criterion = torch.nn.CrossEntropyLoss(reduction='mean')\n",
    "\n",
    "total_epoch = 600\n",
    "train(model=mlp, optimizer=optimizer, criterion=criterion, \n",
    "      train_dataset=D2, total_epoch=total_epoch)\n",
    "\n",
    "accuracy = evaluate(model=mlp, criterion=criterion, \n",
    "                    test_dataset=E1)\n",
    "print(accuracy)"
   ]
  },
  {
   "cell_type": "code",
   "execution_count": 76,
   "metadata": {
    "colab": {
     "base_uri": "https://localhost:8080/",
     "height": 82,
     "referenced_widgets": [
      "76a115831d914413acddc3353146d426",
      "82c46b7e73ba4787b48c41f636794e07",
      "3bebb7d4c70d49ba9024bb6c50b0667b",
      "0d2e0ae24820404485196ff377c8eee6",
      "cddbe5bb4cc34370b96d6c46734aa0c3",
      "e393a69dc1f44500b9bf3f5e8876cca5",
      "cf17888b325a44a1a5f5816949a1e4f8",
      "1bc1aa0af6db4ed3aa4ac97b50a59be6"
     ]
    },
    "colab_type": "code",
    "id": "V8SEYXKsiy81",
    "outputId": "d39d8ae7-31a3-4e95-d7fe-09586e17ea5e"
   },
   "outputs": [
    {
     "data": {
      "application/vnd.jupyter.widget-view+json": {
       "model_id": "76a115831d914413acddc3353146d426",
       "version_major": 2,
       "version_minor": 0
      },
      "text/plain": [
       "HBox(children=(IntProgress(value=0, max=1200), HTML(value='')))"
      ]
     },
     "metadata": {
      "tags": []
     },
     "output_type": "display_data"
    },
    {
     "name": "stdout",
     "output_type": "stream",
     "text": [
      "\n",
      "0.645\n"
     ]
    }
   ],
   "source": [
    "mlp = TetrisMLP()\n",
    "mlp.to(device)\n",
    "\n",
    "learning_rate = 0.05\n",
    "optimizer = optim.Adagrad(mlp.parameters(), lr=learning_rate)\n",
    "criterion = torch.nn.CrossEntropyLoss(reduction='mean')\n",
    "\n",
    "total_epoch = 1200\n",
    "train(model=mlp, optimizer=optimizer, criterion=criterion, \n",
    "      train_dataset=D3, total_epoch=total_epoch)\n",
    "\n",
    "accuracy = evaluate(model=mlp, criterion=criterion, \n",
    "                    test_dataset=E1)\n",
    "print(accuracy)"
   ]
  },
  {
   "cell_type": "code",
   "execution_count": 77,
   "metadata": {
    "colab": {
     "base_uri": "https://localhost:8080/",
     "height": 286
    },
    "colab_type": "code",
    "id": "N3RCEtE48_SK",
    "outputId": "21fd84b5-395a-4d2d-fcb3-d7efc8730ee9"
   },
   "outputs": [
    {
     "name": "stdout",
     "output_type": "stream",
     "text": [
      "----------------------------------------------------------------\n",
      "        Layer (type)               Output Shape         Param #\n",
      "================================================================\n",
      "            Linear-1                   [-1, 50]          51,250\n",
      "            Linear-2                   [-1, 25]           1,275\n",
      "            Linear-3                    [-1, 7]             182\n",
      "================================================================\n",
      "Total params: 52,707\n",
      "Trainable params: 52,707\n",
      "Non-trainable params: 0\n",
      "----------------------------------------------------------------\n",
      "Input size (MB): 0.00\n",
      "Forward/backward pass size (MB): 0.00\n",
      "Params size (MB): 0.20\n",
      "Estimated Total Size (MB): 0.21\n",
      "----------------------------------------------------------------\n"
     ]
    }
   ],
   "source": [
    "img_size = 32\n",
    "summary(mlp, (1, img_size, img_size))"
   ]
  },
  {
   "cell_type": "markdown",
   "metadata": {
    "colab_type": "text",
    "id": "mN9XnmGoiy86"
   },
   "source": [
    "<span style=\"color:red\"> <b>2.1) \n",
    "Show results in terms of the number of training samples and the test accuracy. (10 points) </b>\n",
    "\n",
    "We could observe from the above 3 experiments that the test accuracy decreases when the number of training samples decreases, ceteris paribus. \n",
    "\n",
    "\n",
    "| Dataset | num_samples | Accuracy |   |   |\n",
    "|---------|----------|----------|---|---|\n",
    "| D1      | 2000     | 0.98    |   |   |\n",
    "| D2      | 1000     | 0.86    |   |   |\n",
    "| D3      | 500      | 0.65    |   |   |\n",
    "\n",
    "This is because MLP is not spatial invariant. This means 2 samples with the same block at different position might be inaccurately predicted as different by MLP.\n",
    "\n",
    "MLP trains by fitting the classifier to the <b>training set</b>. However, it would not generalize well onto the test set since the test set consists of blocks at different position never seen before in the training set. This is also known as <b>overfitting</b>. \n",
    "\n",
    "Increasing the number of samples helps the MLP model 'sees' more combinations of block and position during training, allowing it to better generalize onto the test set, thereby increasing the accuracy.\n",
    "</span>"
   ]
  },
  {
   "cell_type": "markdown",
   "metadata": {
    "colab_type": "text",
    "id": "sCmMUosO8_SL"
   },
   "source": [
    "## 3. Convolutional Neural Networks (CNN)\n",
    "\n",
    "### 3.1 CNN Tutorial\n",
    "- Model & training settings\n",
    "    - architecture = **Conv(1,14,12,0) - MaxPool(21) - ReLU - Linear(7)**\n",
    "    > We denote a convolutional layer with m input feature channels, n output feature channels, k kernel size and p padding number by Conv(m, n, k, p).\n",
    "    > Also we denote a maxpooling layer with s kernel size by MaxPool(s).\n",
    "    - loss function = CrossEntropyLoss(reduction='mean')\n",
    "    - optimizer = AdaGrad(learning_rate=0.05)\n",
    "- Train set\n",
    "    - D1 = tetris_dataset(N=2000, batch_size=20 , random_position=True, random_scale=False, random_rotation=False)\n",
    "    - D2 = tetris_dataset(N=500, batch_size=20, random_position=True, random_scale=False, random_rotation=False)\n",
    "    - D3 = tetris_dataset(N=100, batch_size=20, random_position=True, random_scale=False, random_rotation=False)\n",
    "- Test set\n",
    "    - E1 = tetris_dataset(N=200, random_position=True, random_scale=False, random_rotation=False)\n",
    "- Epochs\n",
    "    - 200 for training on D1\n",
    "    - 400 for training on D2\n",
    "    - 800 for training on D3\n",
    "- **P3.1.1) Show results in terms of the number of training samples and the test accuracy. (10 points)**\n",
    "- **P3.1.2) Describe differences between TetrisMLP model and TetrisCNN1 model in terms of the number of parameters, test accuracy and generalizability. (10 points)**\n",
    "\n"
   ]
  },
  {
   "cell_type": "code",
   "execution_count": 0,
   "metadata": {
    "colab": {},
    "colab_type": "code",
    "id": "wXNMiI238_SL"
   },
   "outputs": [],
   "source": [
    "from P08 import TetrisCNN1"
   ]
  },
  {
   "cell_type": "code",
   "execution_count": 79,
   "metadata": {
    "colab": {
     "base_uri": "https://localhost:8080/",
     "height": 82,
     "referenced_widgets": [
      "da287abd2b1041de91d699805467e9a9",
      "879fcec4f09a414eaa180d3b84509e9d",
      "4d3804765a6641f2aa874916227ea1cf",
      "06c756c1bcc841648bd45909d4ec77c1",
      "3b99f1e936e54586b6307f2e031060d9",
      "26758a35b9ef4314867ad7f47ddee694",
      "66258908f5f646d995f067c9116fc596",
      "cb5c83eed3b742a98606cbc46b00294a"
     ]
    },
    "colab_type": "code",
    "id": "-MUKJNSZiy8_",
    "outputId": "d208300a-f193-4da5-a66f-1752d1462081"
   },
   "outputs": [
    {
     "data": {
      "application/vnd.jupyter.widget-view+json": {
       "model_id": "da287abd2b1041de91d699805467e9a9",
       "version_major": 2,
       "version_minor": 0
      },
      "text/plain": [
       "HBox(children=(IntProgress(value=0, max=200), HTML(value='')))"
      ]
     },
     "metadata": {
      "tags": []
     },
     "output_type": "display_data"
    },
    {
     "name": "stdout",
     "output_type": "stream",
     "text": [
      "\n",
      "1.0\n"
     ]
    }
   ],
   "source": [
    "tetris_cnn1 = TetrisCNN1()\n",
    "tetris_cnn1.to(device)\n",
    "learning_rate = 0.05\n",
    "optimizer = optim.Adagrad(tetris_cnn1.parameters(), lr=learning_rate)\n",
    "criterion = torch.nn.CrossEntropyLoss(reduction='mean')\n",
    "\n",
    "total_epoch = 200\n",
    "train(model=tetris_cnn1, optimizer=optimizer, criterion=criterion, \n",
    "      train_dataset=D1, total_epoch=total_epoch)\n",
    "\n",
    "accuracy = evaluate(model=tetris_cnn1, criterion=criterion, \n",
    "                    test_dataset=E1)\n",
    "print(accuracy)"
   ]
  },
  {
   "cell_type": "code",
   "execution_count": 80,
   "metadata": {
    "colab": {
     "base_uri": "https://localhost:8080/",
     "height": 82,
     "referenced_widgets": [
      "c3d80c88470f4d318424a250ace7dd63",
      "b09e35c6a2264d0bb77ab111cb8891c4",
      "5598edecb47240e687ea3e06eca37b48",
      "e075c900737a4f828b697deee2d87d7d",
      "64a2b1ff662242b6b477ebd9ce0cecb2",
      "af15a4b762664f52a664d7e31ece6af1",
      "459536bca6f0405fb185b8bd6e1ef5a2",
      "1efcb7cec4a4415fa4a1407577e66cad"
     ]
    },
    "colab_type": "code",
    "id": "j9D_9kmWiy9F",
    "outputId": "34640efb-bb75-49bb-ce29-b1f78a76d084"
   },
   "outputs": [
    {
     "data": {
      "application/vnd.jupyter.widget-view+json": {
       "model_id": "c3d80c88470f4d318424a250ace7dd63",
       "version_major": 2,
       "version_minor": 0
      },
      "text/plain": [
       "HBox(children=(IntProgress(value=0, max=400), HTML(value='')))"
      ]
     },
     "metadata": {
      "tags": []
     },
     "output_type": "display_data"
    },
    {
     "name": "stdout",
     "output_type": "stream",
     "text": [
      "\n",
      "1.0\n"
     ]
    }
   ],
   "source": [
    "tetris_cnn1 = TetrisCNN1()\n",
    "tetris_cnn1.to(device)\n",
    "learning_rate = 0.05\n",
    "optimizer = optim.Adagrad(tetris_cnn1.parameters(), lr=learning_rate)\n",
    "criterion = torch.nn.CrossEntropyLoss(reduction='mean')\n",
    "\n",
    "total_epoch = 400\n",
    "train(model=tetris_cnn1, optimizer=optimizer, criterion=criterion, \n",
    "      train_dataset=D2, total_epoch=total_epoch)\n",
    "\n",
    "accuracy = evaluate(model=tetris_cnn1, criterion=criterion, \n",
    "                    test_dataset=E1)\n",
    "print(accuracy)"
   ]
  },
  {
   "cell_type": "code",
   "execution_count": 81,
   "metadata": {
    "colab": {
     "base_uri": "https://localhost:8080/",
     "height": 82,
     "referenced_widgets": [
      "3e8dfb530f7c4d35b66d4d4405ba8675",
      "0e4044d1ba544f38a0385da54dda15f9",
      "d1854eea36014b29bd4c30e323d3cd67",
      "ab3b8f2c52074db39cf18dfe24d7cbe1",
      "f957769f018a4582866bf45df12833bb",
      "a260605d8aea47bd8a39903f09224bf0",
      "57eedde1554b40228ed278de5c6c9ce1",
      "b1aa128e167f47febf8f2f6e06cdc4c8"
     ]
    },
    "colab_type": "code",
    "id": "SVVFLIdNiy9I",
    "outputId": "efce06db-11a3-42aa-c363-90ecb5754a45"
   },
   "outputs": [
    {
     "data": {
      "application/vnd.jupyter.widget-view+json": {
       "model_id": "3e8dfb530f7c4d35b66d4d4405ba8675",
       "version_major": 2,
       "version_minor": 0
      },
      "text/plain": [
       "HBox(children=(IntProgress(value=0, max=800), HTML(value='')))"
      ]
     },
     "metadata": {
      "tags": []
     },
     "output_type": "display_data"
    },
    {
     "name": "stdout",
     "output_type": "stream",
     "text": [
      "\n",
      "1.0\n"
     ]
    }
   ],
   "source": [
    "tetris_cnn1 = TetrisCNN1()\n",
    "tetris_cnn1.to(device)\n",
    "learning_rate = 0.05\n",
    "optimizer = optim.Adagrad(tetris_cnn1.parameters(), lr=learning_rate)\n",
    "criterion = torch.nn.CrossEntropyLoss(reduction='mean')\n",
    "\n",
    "total_epoch = 800\n",
    "train(model=tetris_cnn1, optimizer=optimizer, criterion=criterion, \n",
    "      train_dataset=D3, total_epoch=total_epoch)\n",
    "\n",
    "accuracy = evaluate(model=tetris_cnn1, criterion=criterion, \n",
    "                    test_dataset=E1)\n",
    "print(accuracy)"
   ]
  },
  {
   "cell_type": "code",
   "execution_count": 82,
   "metadata": {
    "colab": {
     "base_uri": "https://localhost:8080/",
     "height": 269
    },
    "colab_type": "code",
    "id": "T5oBCBgj8_SO",
    "outputId": "78cc99b0-7aed-422f-d8bc-ad30da53dc26"
   },
   "outputs": [
    {
     "name": "stdout",
     "output_type": "stream",
     "text": [
      "----------------------------------------------------------------\n",
      "        Layer (type)               Output Shape         Param #\n",
      "================================================================\n",
      "            Conv2d-1           [-1, 14, 21, 21]           2,030\n",
      "            Linear-2                    [-1, 7]             105\n",
      "================================================================\n",
      "Total params: 2,135\n",
      "Trainable params: 2,135\n",
      "Non-trainable params: 0\n",
      "----------------------------------------------------------------\n",
      "Input size (MB): 0.00\n",
      "Forward/backward pass size (MB): 0.05\n",
      "Params size (MB): 0.01\n",
      "Estimated Total Size (MB): 0.06\n",
      "----------------------------------------------------------------\n"
     ]
    }
   ],
   "source": [
    "img_size = 32\n",
    "summary(tetris_cnn1, (1, img_size, img_size))"
   ]
  },
  {
   "cell_type": "markdown",
   "metadata": {
    "colab_type": "text",
    "id": "J26yl4ZJiy9T"
   },
   "source": [
    "<span style=\"color:red\"> \n",
    "**P3.1.1) Show results in terms of the number of training samples and the test accuracy. (10 points)**\n",
    "\n",
    "We could observe from the above 3 experiments that the test accuracy remains at 100% even when the number of training samples decreases, ceteris paribus. \n",
    "\n",
    "\n",
    "| Dataset | num_samples | Accuracy |   |   |\n",
    "|---------|----------|----------|---|---|\n",
    "| D1      | 2000     | 1.0      |   |   |\n",
    "| D2      | 500      | 1.0      |   |   |\n",
    "| D3      | 100      | 1.0      |   |   |\n",
    "\n",
    "This is because CNN is spatial invariant (translation-robust) - 2 samples with the same block at different position would be accurately predicted as similar by CNN. \n",
    "\n",
    "As long as the training sample consists of all 7 types of tetris block, irregardless of their position, CNN would be able to generalize well. This is evident from the accuracy of 100% using just 100 training samples.\n",
    "\n",
    " </span>"
   ]
  },
  {
   "cell_type": "markdown",
   "metadata": {
    "colab_type": "text",
    "id": "2Cgxsjjviy9U"
   },
   "source": [
    "<span style=\"color:red\"> \n",
    "**P3.1.2) Describe differences between TetrisMLP model and TetrisCNN1 model in terms of the number of parameters, test accuracy and generalizability. (10 points)**\n",
    "\n",
    "|  | num_params | Accuracy | Generalizability |  |\n",
    "|---------|----------|----------|---|---|\n",
    "|  TetrisMLP     | 52,707     | Low      |  Very Low |  |\n",
    "| TetrisCNN1      | 2,135      | High      | High  |   |\n",
    "\n",
    "TetrisCNN1 model has spatial invariance, hence it is able to generalize well, irregardless of the variety of positions the test samples adopt. This is attributed to the Convolutional layer, which functions as multiple 'eyes' each overlooking different position of the image sample. TetrisCNN1's accuracy and generalizability are hence higher than those of the spatial variant TetrisMLP. The number of parameters in TetrisCNN1 is also lower than TetrisMLP due to lesser number of neurons in the hidden layers.\n",
    "\n",
    "</span>"
   ]
  },
  {
   "cell_type": "markdown",
   "metadata": {
    "colab_type": "text",
    "id": "FMz598CG8_SR"
   },
   "source": [
    "\n",
    "\n",
    "### 3.2 Build a deeper CNN model\n",
    "Build a new CNN model following below architecture by modifying **TetrisCNN2** class in P08.py.  It is deeper model than TetrisCNN1. \n",
    "- Model & training settings\n",
    "    - structure = **Conv(1,5,3,1) - MaxPool(2) - ReLU - Conv(5,10,3,1) - MaxPool(2) - ReLU - Conv(10,10,3,1) - MaxPool(2) - ReLU - Conv(10,10,3,1) - MaxPool(2) - ReLU - Conv(10,10,3,1) - MaxPool(2) - ReLU - Linear(10) - ReLU - Linear(7)**\n",
    "    - loss function = CrossEntropyLoss(reduction='mean')\n",
    "    - optimizer = AdaGrad(learning_rate=0.05)\n",
    "    \n",
    "**P3.2.1) Measure test accuracies for E1 after training TetrisCNN2 on D1. (20 points)**"
   ]
  },
  {
   "cell_type": "code",
   "execution_count": 0,
   "metadata": {
    "colab": {},
    "colab_type": "code",
    "id": "cKQIplLgiy9W"
   },
   "outputs": [],
   "source": [
    "from P08 import TetrisCNN2"
   ]
  },
  {
   "cell_type": "code",
   "execution_count": 84,
   "metadata": {
    "colab": {
     "base_uri": "https://localhost:8080/",
     "height": 418,
     "referenced_widgets": [
      "3f2f6fe5a467453a8c138d72dc9faf59",
      "69fc48bbfd0c4023b9124369385ece0a",
      "43bb109171e04fa1b2e1b96ea5000517",
      "141f52ef1075472d9417bb99bc618234",
      "f07b2acfd5714462831bfafb4740816a",
      "f3a9b25ca9a148a89b2be00919ec3f5c",
      "89bfec58f7df40379f54ba60557ef0ee",
      "ab6c3b89fc834da7a7e73685db491816"
     ]
    },
    "colab_type": "code",
    "id": "9FFIxLr0iy9Y",
    "outputId": "34341b0a-db5f-4839-d2a9-795024b2ddc6"
   },
   "outputs": [
    {
     "data": {
      "application/vnd.jupyter.widget-view+json": {
       "model_id": "3f2f6fe5a467453a8c138d72dc9faf59",
       "version_major": 2,
       "version_minor": 0
      },
      "text/plain": [
       "HBox(children=(IntProgress(value=0, max=200), HTML(value='')))"
      ]
     },
     "metadata": {
      "tags": []
     },
     "output_type": "display_data"
    },
    {
     "name": "stdout",
     "output_type": "stream",
     "text": [
      "\n",
      "1.0\n",
      "----------------------------------------------------------------\n",
      "        Layer (type)               Output Shape         Param #\n",
      "================================================================\n",
      "            Conv2d-1            [-1, 5, 32, 32]              50\n",
      "            Conv2d-2           [-1, 10, 16, 16]             460\n",
      "            Conv2d-3             [-1, 10, 8, 8]             910\n",
      "            Conv2d-4             [-1, 10, 4, 4]             910\n",
      "            Conv2d-5             [-1, 10, 2, 2]             910\n",
      "            Linear-6                   [-1, 10]             110\n",
      "            Linear-7                    [-1, 7]              77\n",
      "================================================================\n",
      "Total params: 3,427\n",
      "Trainable params: 3,427\n",
      "Non-trainable params: 0\n",
      "----------------------------------------------------------------\n",
      "Input size (MB): 0.00\n",
      "Forward/backward pass size (MB): 0.07\n",
      "Params size (MB): 0.01\n",
      "Estimated Total Size (MB): 0.08\n",
      "----------------------------------------------------------------\n"
     ]
    }
   ],
   "source": [
    "tetris_cnn2 = TetrisCNN2()\n",
    "tetris_cnn2.to(device)\n",
    "learning_rate = 0.05\n",
    "optimizer = optim.Adagrad(tetris_cnn2.parameters(), lr=learning_rate)\n",
    "criterion = torch.nn.CrossEntropyLoss(reduction='mean')\n",
    "\n",
    "total_epoch = 200\n",
    "train(model=tetris_cnn2, optimizer=optimizer, criterion=criterion, \n",
    "      train_dataset=D1, total_epoch=total_epoch)\n",
    "\n",
    "accuracy = evaluate(model=tetris_cnn2, criterion=criterion, \n",
    "                    test_dataset=E1)\n",
    "print(accuracy)\n",
    "\n",
    "img_size = 32\n",
    "summary(tetris_cnn2, (1, img_size, img_size))"
   ]
  },
  {
   "cell_type": "markdown",
   "metadata": {
    "colab_type": "text",
    "id": "oR6QhZQ3iy9a"
   },
   "source": [
    "<span style=\"color:red\"> \n",
    "**P3.2.1) Measure test accuracies for E1 after training TetrisCNN2 on D1. (20 points)**\n",
    "\n",
    "As can be seen from the above, TetrisCNN2 yields a test accuracy of 1.0 when trained via dataset D1 and evaluated against test set E1. Since it has more layers than TetrisCNN1, it has more parameters to train.\n",
    "\n",
    "</span>\n"
   ]
  },
  {
   "cell_type": "markdown",
   "metadata": {
    "colab_type": "text",
    "id": "yhNQhqBk8_SS"
   },
   "source": [
    "## 4. Properties of CNNs\n",
    "\n",
    "### 4.1 Robust to translation\n",
    "- Train set\n",
    "    - D4 = tetris_dataset(N=1000, batch_size=20, random_position=False, random_scale=False, random_rotation=False)\n",
    "- Test set\n",
    "    - E1 = tetris_dataset(N=200, random_position=True, random_scale=False, random_rotation=False)\n",
    "\n",
    "**P4.1.1) Confirm that CNN is more translation-invariant than MLP by comparing test accuracies of TetrisCNN1 to TetrisMLP model. Discuss the reason why the TetrisCNN1 model has better performance despite having fewer model parameters than MLP. (30 points)**\n",
    "\n",
    "> Hint ; Think about properties of convolution operation.\n",
    "\n"
   ]
  },
  {
   "cell_type": "code",
   "execution_count": 0,
   "metadata": {
    "colab": {},
    "colab_type": "code",
    "id": "xpeuPqvErA1a"
   },
   "outputs": [],
   "source": [
    "batch_size = 20\n",
    "random_position = False\n",
    "random_scale = False\n",
    "random_rotation = False\n",
    "\n",
    "train_num = 1000\n",
    "D4 = make_tetris_dataset(train_num, batch_size, random_position, \n",
    "                         random_scale, random_rotation)"
   ]
  },
  {
   "cell_type": "code",
   "execution_count": 92,
   "metadata": {
    "colab": {
     "base_uri": "https://localhost:8080/",
     "height": 148,
     "referenced_widgets": [
      "a3ab4f3b4afe4658a97e62058e4b2dc5",
      "9e159ac636f248df9a3caadde6f72388",
      "e360034826144278ac077c6f8b828224",
      "cd9eb2429a3945c9bbf7d6662d6581ca",
      "02bfac14f3ef43f3a6257bfd414e67cd",
      "ca30f13c05ab48d3802926cc6cf22faf",
      "40b2542c93d34914b1fee571a8de594e",
      "98f351191d184493bd2148800ca62775",
      "f6adf00c762c45278b0ce4ab22ce8fb6",
      "ae38954375654d92978dfd3b03e2ccf8",
      "486395076f644f9aa55a93ab320f648b",
      "f5c4eac7d0ce4951b06730aacc60f3f9",
      "2e5950251c9b4b01af3c5105894f0275",
      "6992937692b9478bae4812cee5327279",
      "e691f7777aba4eca91afd863da17acb1",
      "be1020d5c20a44b5b939c9976b8963e9"
     ]
    },
    "colab_type": "code",
    "id": "SR89UQpSiy9f",
    "outputId": "56a926c5-481e-4f8e-e0cb-e5deb504dde6"
   },
   "outputs": [
    {
     "data": {
      "application/vnd.jupyter.widget-view+json": {
       "model_id": "a3ab4f3b4afe4658a97e62058e4b2dc5",
       "version_major": 2,
       "version_minor": 0
      },
      "text/plain": [
       "HBox(children=(IntProgress(value=0, max=600), HTML(value='')))"
      ]
     },
     "metadata": {
      "tags": []
     },
     "output_type": "display_data"
    },
    {
     "name": "stdout",
     "output_type": "stream",
     "text": [
      "\n",
      "MLP accuracy: 0.13999999999999999\n"
     ]
    },
    {
     "data": {
      "application/vnd.jupyter.widget-view+json": {
       "model_id": "f6adf00c762c45278b0ce4ab22ce8fb6",
       "version_major": 2,
       "version_minor": 0
      },
      "text/plain": [
       "HBox(children=(IntProgress(value=0, max=600), HTML(value='')))"
      ]
     },
     "metadata": {
      "tags": []
     },
     "output_type": "display_data"
    },
    {
     "name": "stdout",
     "output_type": "stream",
     "text": [
      "\n",
      "CNN1 accuracy: 0.9299999999999999\n"
     ]
    }
   ],
   "source": [
    "mlp = TetrisMLP()\n",
    "mlp.to(device)\n",
    "\n",
    "cnn1 = TetrisCNN1()\n",
    "cnn1.to(device)\n",
    "\n",
    "learning_rate = 0.05\n",
    "mlp_optimizer = optim.Adagrad(mlp.parameters(), lr=learning_rate)\n",
    "cnn1_optimizer = optim.Adagrad(cnn1.parameters(), lr=learning_rate)\n",
    "\n",
    "criterion = torch.nn.CrossEntropyLoss(reduction='mean')\n",
    "\n",
    "total_epoch = 600\n",
    "train(model=mlp, optimizer=mlp_optimizer, criterion=criterion, \n",
    "      train_dataset=D4, total_epoch=total_epoch)\n",
    "mlp_accuracy = evaluate(model=mlp, criterion=criterion, \n",
    "                    test_dataset=E1)\n",
    "print(\"MLP accuracy: \" + str(mlp_accuracy))\n",
    "\n",
    "train(model=cnn1, optimizer=cnn1_optimizer, criterion=criterion, \n",
    "      train_dataset=D4, total_epoch=total_epoch)\n",
    "cnn1_accuracy = evaluate(model=cnn1, criterion=criterion, \n",
    "                    test_dataset=E1)\n",
    "print(\"CNN1 accuracy: \" + str(cnn1_accuracy))"
   ]
  },
  {
   "cell_type": "markdown",
   "metadata": {
    "colab_type": "text",
    "id": "HTvJcPQDiy9k"
   },
   "source": [
    "<span style=\"color:red\"> \n",
    "**P4.1.1) Confirm that CNN is more translation-invariant than MLP by comparing test accuracies of TetrisCNN1 to TetrisMLP model. Discuss the reason why the TetrisCNN1 model has better performance despite having fewer model parameters than MLP. (30 points)**\n",
    "\n",
    "\n",
    "| Model | # params | Accuracy |\n",
    "|---------|----------|----------|\n",
    "| TetrisMLP      | 52,707     | 0.14  |\n",
    "| TetrisCNN1      | 2,135      | 0.93|\n",
    "\n",
    "TetrisMLP annd TetrisCNN1 models were both trained on data set D4 where position of the blocks are fixed at the center of the image. However, the position of the blocks in test set E1 was randomly determined (subjected to translation).\n",
    "\n",
    "On evaluating TetrisMLP and TetrisCNN1 against E1, TetrisCNN1 scored a test accuracy of 0.93, much higher than 0.14 of TetrisMLP. This confirms that CNN is more translation-invariant than MLP; both were trained with blocks fixed at the center, but CNN fares much better when the blocks start moving around.\n",
    "\n",
    "The reason for this phenomenon is due to spatial invariance property of CNN. CNN's convolution operation functions as multiple 'eyes' each overlooking different areas of the image sample in a sliding window manner. This means that CNN is bound to find the block and predict it, regardless of the block's position. MLP, on the other hand, only overlooks the center of the image. As such, MLP is unable to predict images where blocks are not located at the center.\n",
    " </span>\n"
   ]
  },
  {
   "cell_type": "markdown",
   "metadata": {
    "colab_type": "text",
    "id": "HFFqPp2K8_SS"
   },
   "source": [
    "### 4.2 Sensitive to scale and rotation variation.\n",
    "**P4.2.1) Verify that TetrisCNN1 model is sensitive to scale and rotation variation. Construct test sets using make_tetris_dataset function to verify them. Discuss the results and how to overcome those sensitivities. (20 points)**\n",
    "- Note that:\n",
    "    - random_scale=True : block_sizes are uniformly selected from [4, 8, 12]\n",
    "    - random_rotation=True : rotations are uniformly selected from [0, 90, 180, 270]\n",
    "    \n",
    "**BONUS; P4.2.2) Confirm your idea to overcome those sensitivities of CNNs. Feel free to implement your idea in this .ipynb file or P08.py. (5 extra-points)**"
   ]
  },
  {
   "cell_type": "code",
   "execution_count": 0,
   "metadata": {
    "colab": {},
    "colab_type": "code",
    "id": "3inlQyiF0qRG"
   },
   "outputs": [],
   "source": [
    "batch_size = 20\n",
    "\n",
    "train_num = 1000\n",
    "normal_data = make_tetris_dataset(train_num, batch_size, random_position = False, \n",
    "                         random_scale = False, random_rotation = False)\n",
    "\n",
    "test_num = 200\n",
    "normal_test_data = make_tetris_dataset(test_num, batch_size, random_position = False, \n",
    "                         random_scale = False, random_rotation = False)\n",
    "\n",
    "scaled_test_data = make_tetris_dataset(test_num, batch_size, random_position = False, \n",
    "                         random_scale = True, random_rotation = False)\n",
    "\n",
    "rotated_test_data = make_tetris_dataset(test_num, batch_size, random_position = False, \n",
    "                         random_scale = False, random_rotation = True)"
   ]
  },
  {
   "cell_type": "code",
   "execution_count": 94,
   "metadata": {
    "colab": {
     "base_uri": "https://localhost:8080/",
     "height": 116,
     "referenced_widgets": [
      "6eeb2f5bec00487dbd402ee22bda6951",
      "08781c42de9b4348964092889267288e",
      "6096bb6a29c44f618690f0c83ed91abf",
      "219ce1b4f5fb49388cbfdc894ad91cfd",
      "2b48b6b9c92647f683c95df370fa976f",
      "85cc0b6074614090b39badcf91229f69",
      "e7a173278e19425d8abfedd323009181",
      "110208075a224838b502d6a12e9db96e"
     ]
    },
    "colab_type": "code",
    "id": "Yc_na6ouGM0Q",
    "outputId": "98af353b-3d2b-41fc-d9a9-a29e6b9adf0f"
   },
   "outputs": [
    {
     "data": {
      "application/vnd.jupyter.widget-view+json": {
       "model_id": "6eeb2f5bec00487dbd402ee22bda6951",
       "version_major": 2,
       "version_minor": 0
      },
      "text/plain": [
       "HBox(children=(IntProgress(value=0, max=200), HTML(value='')))"
      ]
     },
     "metadata": {
      "tags": []
     },
     "output_type": "display_data"
    },
    {
     "name": "stdout",
     "output_type": "stream",
     "text": [
      "\n",
      "Normal test accuracy: 1.0\n",
      "Scaled test accuracy: 0.74\n",
      "Rotated test accuracy: 0.5399999999999999\n"
     ]
    }
   ],
   "source": [
    "tetris_cnn1 = TetrisCNN1()\n",
    "tetris_cnn1.to(device)\n",
    "\n",
    "learning_rate = 0.05\n",
    "optimizer = optim.Adagrad(tetris_cnn1.parameters(), lr=learning_rate)\n",
    "criterion = torch.nn.CrossEntropyLoss(reduction='mean')\n",
    "\n",
    "total_epoch = 200\n",
    "train(model=tetris_cnn1, optimizer=optimizer, criterion=criterion, \n",
    "      train_dataset=normal_data, total_epoch=total_epoch) # trained using normal data\n",
    "\n",
    "normal_test_accuracy = evaluate(model=tetris_cnn1, criterion=criterion, \n",
    "                    test_dataset=normal_test_data) # evaluate against normal test data\n",
    "\n",
    "scaled_test_accuracy = evaluate(model=tetris_cnn1, criterion=criterion, \n",
    "                    test_dataset=scaled_test_data) # evaluate against scaled test data\n",
    "\n",
    "rotated_test_accuracy = evaluate(model=tetris_cnn1, criterion=criterion, \n",
    "                    test_dataset=rotated_test_data) # evaluate against rotated test data\n",
    "\n",
    "print(\"Normal test accuracy: \" + str(normal_test_accuracy))\n",
    "print(\"Scaled test accuracy: \" + str(scaled_test_accuracy))\n",
    "print(\"Rotated test accuracy: \" + str(rotated_test_accuracy))"
   ]
  },
  {
   "cell_type": "markdown",
   "metadata": {
    "colab_type": "text",
    "id": "oKD4EeQliy9o"
   },
   "source": [
    "<span style=\"color:red\"> \n",
    "**P4.2.1) Verify that TetrisCNN1 model is sensitive to scale and rotation variation. Construct test sets using make_tetris_dataset function to verify them. Discuss the results and how to overcome those sensitivities. (20 points)**\n",
    "\n",
    "In the above experiment, we trained TetrisCNN1 model using a normal data set that is made up of image samples where block is positioned at the center and not scaled / rotated. \n",
    "\n",
    "We then evaluated it against 3 types of data set - \n",
    "\n",
    "| Type of test | Random Position | Random Scale | Random Rotation| Accuracy  |\n",
    "|-------------|------------|------------|------------|------------|\n",
    "| Normal      | False| False| False|1.0        |  \n",
    "| Scaled      | False| True| False|0.74       |  \n",
    "| Rotated     | False| False| True| 0.54       | \n",
    "\n",
    "From the above tabular results, we can verify that TetrisCNN1 model is indeed sensitive to scale and rotation variation; it was trained on a normal data set and hence fared perfectly on a normal test set but badly on a scaled and rotated test set.\n",
    "\n",
    "One of the main reasons to this phenomenon is that the filter's weights are adjusted to detect an **upright** (0-degree rotation) block of **size 12**. A block of different rotation / size would result in filter's weights not corresponding to the desired pixel of the image as was trained.\n",
    "\n",
    "To resolve this, we could perform **Data Augmentation** on the training set - a form of Regularization. If possible, we could also **increase our number of training samples**.\n",
    "</span>\n"
   ]
  },
  {
   "cell_type": "code",
   "execution_count": 0,
   "metadata": {
    "colab": {},
    "colab_type": "code",
    "id": "lG0-NAZbiy9p"
   },
   "outputs": [],
   "source": [
    "batch_size = 20\n",
    "\n",
    "train_num = 1000\n",
    "\n",
    "# To overcome those sensitivities of CNN, we perform Data Augmentation \n",
    "# (repositioning, resizing, and rotation) on the training data set.\n",
    "\n",
    "augmented_data = make_tetris_dataset(train_num, batch_size, random_position = True, \n",
    "                         random_scale = True, random_rotation = True)"
   ]
  },
  {
   "cell_type": "code",
   "execution_count": 96,
   "metadata": {
    "colab": {
     "base_uri": "https://localhost:8080/",
     "height": 116,
     "referenced_widgets": [
      "f8f7081518c249ad89b53d28d4966c5a",
      "344152ccdd7d48b3b6a023c463790495",
      "8199bf39e4ef4ca684026343a643d8e0",
      "6de3852c16ea43b39209887b2d8419d0",
      "6bbdea0206324619a738d18b68d6ecdd",
      "f8364c8e73dc4cb6b5326a0496c3cd66",
      "965280ee0c5e4e478e09811fc6f06a3d",
      "a9ad633cdbf04e04a95bac23aa806f10"
     ]
    },
    "colab_type": "code",
    "id": "lLWnqT2gUf-8",
    "outputId": "a0baaf1f-be3b-4a75-eccd-f83751254df7"
   },
   "outputs": [
    {
     "data": {
      "application/vnd.jupyter.widget-view+json": {
       "model_id": "f8f7081518c249ad89b53d28d4966c5a",
       "version_major": 2,
       "version_minor": 0
      },
      "text/plain": [
       "HBox(children=(IntProgress(value=0, max=200), HTML(value='')))"
      ]
     },
     "metadata": {
      "tags": []
     },
     "output_type": "display_data"
    },
    {
     "name": "stdout",
     "output_type": "stream",
     "text": [
      "\n",
      "Normal test accuracy: 1.0\n",
      "Scaled test accuracy: 1.0\n",
      "Rotated test accuracy: 1.0\n"
     ]
    }
   ],
   "source": [
    "tetris_cnn1 = TetrisCNN1()\n",
    "tetris_cnn1.to(device)\n",
    "\n",
    "learning_rate = 0.05\n",
    "optimizer = optim.Adagrad(tetris_cnn1.parameters(), lr=learning_rate)\n",
    "criterion = torch.nn.CrossEntropyLoss(reduction='mean')\n",
    "\n",
    "total_epoch = 200\n",
    "train(model=tetris_cnn1, optimizer=optimizer, criterion=criterion, \n",
    "      train_dataset=augmented_data, total_epoch=total_epoch) # trained using AUGMENTED data\n",
    "\n",
    "normal_test_accuracy = evaluate(model=tetris_cnn1, criterion=criterion, \n",
    "                    test_dataset=normal_test_data) # evaluate against normal test data\n",
    "\n",
    "scaled_test_accuracy = evaluate(model=tetris_cnn1, criterion=criterion, \n",
    "                    test_dataset=scaled_test_data) # evaluate against scaled test data\n",
    "\n",
    "rotated_test_accuracy = evaluate(model=tetris_cnn1, criterion=criterion, \n",
    "                    test_dataset=rotated_test_data) # evaluate against rotated test data\n",
    "\n",
    "print(\"Normal test accuracy: \" + str(normal_test_accuracy))\n",
    "print(\"Scaled test accuracy: \" + str(scaled_test_accuracy))\n",
    "print(\"Rotated test accuracy: \" + str(rotated_test_accuracy))"
   ]
  },
  {
   "cell_type": "markdown",
   "metadata": {
    "colab_type": "text",
    "id": "w2Jm3ovXiy9r"
   },
   "source": [
    "<span style=\"color:red\"> \n",
    "**P4.2.2) Confirm your idea to overcome those sensitivities of CNNs. Feel free to implement your idea in this .ipynb file or P08.py. (5 extra-points)**\n",
    "</span>\n",
    "    \n",
    "    \n",
    "As can be seen above, when we trained our CNN model using Data Augmentation technique, the test accuracy against scaled and rotated data improved tremendously, or in fact, a perfect 100%.\n",
    "\n",
    "This is because data augmentation essentially trains our model to \"see\" tetris blocks of different sizes and rotation by augmenting our training data. As such, our model would be able to recognize blocks of different sizes and rotation in the test data, and ultimately improving the test accuracy of scaled / rotated data. "
   ]
  }
 ],
 "metadata": {
  "accelerator": "GPU",
  "colab": {
   "collapsed_sections": [],
   "name": "P08_convolutional_neural_network.ipynb",
   "provenance": []
  },
  "kernelspec": {
   "display_name": "Python 3",
   "language": "python",
   "name": "python3"
  },
  "language_info": {
   "codemirror_mode": {
    "name": "ipython",
    "version": 3
   },
   "file_extension": ".py",
   "mimetype": "text/x-python",
   "name": "python",
   "nbconvert_exporter": "python",
   "pygments_lexer": "ipython3",
   "version": "3.7.3"
  },
  "widgets": {
   "application/vnd.jupyter.widget-state+json": {
    "01524962b3594b71aa6ac4cf9a67d440": {
     "model_module": "@jupyter-widgets/controls",
     "model_name": "IntProgressModel",
     "state": {
      "_dom_classes": [],
      "_model_module": "@jupyter-widgets/controls",
      "_model_module_version": "1.5.0",
      "_model_name": "IntProgressModel",
      "_view_count": null,
      "_view_module": "@jupyter-widgets/controls",
      "_view_module_version": "1.5.0",
      "_view_name": "ProgressView",
      "bar_style": "success",
      "description": "50000-th epoch, loss: 6.15, accuracy: 0.99",
      "description_tooltip": null,
      "layout": "IPY_MODEL_e27e8d5d46604191a3769e68a9c69ed6",
      "max": 50000,
      "min": 0,
      "orientation": "horizontal",
      "style": "IPY_MODEL_622b78e9cef041b09aca2e46139fe7ae",
      "value": 50000
     }
    },
    "018630e3fb2543d39174e5146d71897f": {
     "model_module": "@jupyter-widgets/controls",
     "model_name": "DescriptionStyleModel",
     "state": {
      "_model_module": "@jupyter-widgets/controls",
      "_model_module_version": "1.5.0",
      "_model_name": "DescriptionStyleModel",
      "_view_count": null,
      "_view_module": "@jupyter-widgets/base",
      "_view_module_version": "1.2.0",
      "_view_name": "StyleView",
      "description_width": ""
     }
    },
    "02bfac14f3ef43f3a6257bfd414e67cd": {
     "model_module": "@jupyter-widgets/controls",
     "model_name": "ProgressStyleModel",
     "state": {
      "_model_module": "@jupyter-widgets/controls",
      "_model_module_version": "1.5.0",
      "_model_name": "ProgressStyleModel",
      "_view_count": null,
      "_view_module": "@jupyter-widgets/base",
      "_view_module_version": "1.2.0",
      "_view_name": "StyleView",
      "bar_color": null,
      "description_width": "initial"
     }
    },
    "06c756c1bcc841648bd45909d4ec77c1": {
     "model_module": "@jupyter-widgets/controls",
     "model_name": "HTMLModel",
     "state": {
      "_dom_classes": [],
      "_model_module": "@jupyter-widgets/controls",
      "_model_module_version": "1.5.0",
      "_model_name": "HTMLModel",
      "_view_count": null,
      "_view_module": "@jupyter-widgets/controls",
      "_view_module_version": "1.5.0",
      "_view_name": "HTMLView",
      "description": "",
      "description_tooltip": null,
      "layout": "IPY_MODEL_cb5c83eed3b742a98606cbc46b00294a",
      "placeholder": "​",
      "style": "IPY_MODEL_66258908f5f646d995f067c9116fc596",
      "value": "100% 200/200 [00:26&lt;00:00,  7.54it/s]"
     }
    },
    "073f7b5ba25641bc88193125592ba4c0": {
     "model_module": "@jupyter-widgets/base",
     "model_name": "LayoutModel",
     "state": {
      "_model_module": "@jupyter-widgets/base",
      "_model_module_version": "1.2.0",
      "_model_name": "LayoutModel",
      "_view_count": null,
      "_view_module": "@jupyter-widgets/base",
      "_view_module_version": "1.2.0",
      "_view_name": "LayoutView",
      "align_content": null,
      "align_items": null,
      "align_self": null,
      "border": null,
      "bottom": null,
      "display": null,
      "flex": null,
      "flex_flow": null,
      "grid_area": null,
      "grid_auto_columns": null,
      "grid_auto_flow": null,
      "grid_auto_rows": null,
      "grid_column": null,
      "grid_gap": null,
      "grid_row": null,
      "grid_template_areas": null,
      "grid_template_columns": null,
      "grid_template_rows": null,
      "height": null,
      "justify_content": null,
      "justify_items": null,
      "left": null,
      "margin": null,
      "max_height": null,
      "max_width": null,
      "min_height": null,
      "min_width": null,
      "object_fit": null,
      "object_position": null,
      "order": null,
      "overflow": null,
      "overflow_x": null,
      "overflow_y": null,
      "padding": null,
      "right": null,
      "top": null,
      "visibility": null,
      "width": null
     }
    },
    "08781c42de9b4348964092889267288e": {
     "model_module": "@jupyter-widgets/base",
     "model_name": "LayoutModel",
     "state": {
      "_model_module": "@jupyter-widgets/base",
      "_model_module_version": "1.2.0",
      "_model_name": "LayoutModel",
      "_view_count": null,
      "_view_module": "@jupyter-widgets/base",
      "_view_module_version": "1.2.0",
      "_view_name": "LayoutView",
      "align_content": null,
      "align_items": null,
      "align_self": null,
      "border": null,
      "bottom": null,
      "display": null,
      "flex": null,
      "flex_flow": null,
      "grid_area": null,
      "grid_auto_columns": null,
      "grid_auto_flow": null,
      "grid_auto_rows": null,
      "grid_column": null,
      "grid_gap": null,
      "grid_row": null,
      "grid_template_areas": null,
      "grid_template_columns": null,
      "grid_template_rows": null,
      "height": null,
      "justify_content": null,
      "justify_items": null,
      "left": null,
      "margin": null,
      "max_height": null,
      "max_width": null,
      "min_height": null,
      "min_width": null,
      "object_fit": null,
      "object_position": null,
      "order": null,
      "overflow": null,
      "overflow_x": null,
      "overflow_y": null,
      "padding": null,
      "right": null,
      "top": null,
      "visibility": null,
      "width": null
     }
    },
    "0d2e0ae24820404485196ff377c8eee6": {
     "model_module": "@jupyter-widgets/controls",
     "model_name": "HTMLModel",
     "state": {
      "_dom_classes": [],
      "_model_module": "@jupyter-widgets/controls",
      "_model_module_version": "1.5.0",
      "_model_name": "HTMLModel",
      "_view_count": null,
      "_view_module": "@jupyter-widgets/controls",
      "_view_module_version": "1.5.0",
      "_view_name": "HTMLView",
      "description": "",
      "description_tooltip": null,
      "layout": "IPY_MODEL_1bc1aa0af6db4ed3aa4ac97b50a59be6",
      "placeholder": "​",
      "style": "IPY_MODEL_cf17888b325a44a1a5f5816949a1e4f8",
      "value": "100% 1200/1200 [00:43&lt;00:00, 27.30it/s]"
     }
    },
    "0e4044d1ba544f38a0385da54dda15f9": {
     "model_module": "@jupyter-widgets/base",
     "model_name": "LayoutModel",
     "state": {
      "_model_module": "@jupyter-widgets/base",
      "_model_module_version": "1.2.0",
      "_model_name": "LayoutModel",
      "_view_count": null,
      "_view_module": "@jupyter-widgets/base",
      "_view_module_version": "1.2.0",
      "_view_name": "LayoutView",
      "align_content": null,
      "align_items": null,
      "align_self": null,
      "border": null,
      "bottom": null,
      "display": null,
      "flex": null,
      "flex_flow": null,
      "grid_area": null,
      "grid_auto_columns": null,
      "grid_auto_flow": null,
      "grid_auto_rows": null,
      "grid_column": null,
      "grid_gap": null,
      "grid_row": null,
      "grid_template_areas": null,
      "grid_template_columns": null,
      "grid_template_rows": null,
      "height": null,
      "justify_content": null,
      "justify_items": null,
      "left": null,
      "margin": null,
      "max_height": null,
      "max_width": null,
      "min_height": null,
      "min_width": null,
      "object_fit": null,
      "object_position": null,
      "order": null,
      "overflow": null,
      "overflow_x": null,
      "overflow_y": null,
      "padding": null,
      "right": null,
      "top": null,
      "visibility": null,
      "width": null
     }
    },
    "110208075a224838b502d6a12e9db96e": {
     "model_module": "@jupyter-widgets/base",
     "model_name": "LayoutModel",
     "state": {
      "_model_module": "@jupyter-widgets/base",
      "_model_module_version": "1.2.0",
      "_model_name": "LayoutModel",
      "_view_count": null,
      "_view_module": "@jupyter-widgets/base",
      "_view_module_version": "1.2.0",
      "_view_name": "LayoutView",
      "align_content": null,
      "align_items": null,
      "align_self": null,
      "border": null,
      "bottom": null,
      "display": null,
      "flex": null,
      "flex_flow": null,
      "grid_area": null,
      "grid_auto_columns": null,
      "grid_auto_flow": null,
      "grid_auto_rows": null,
      "grid_column": null,
      "grid_gap": null,
      "grid_row": null,
      "grid_template_areas": null,
      "grid_template_columns": null,
      "grid_template_rows": null,
      "height": null,
      "justify_content": null,
      "justify_items": null,
      "left": null,
      "margin": null,
      "max_height": null,
      "max_width": null,
      "min_height": null,
      "min_width": null,
      "object_fit": null,
      "object_position": null,
      "order": null,
      "overflow": null,
      "overflow_x": null,
      "overflow_y": null,
      "padding": null,
      "right": null,
      "top": null,
      "visibility": null,
      "width": null
     }
    },
    "1306184959d7492f97e3c89ae3a4a0a2": {
     "model_module": "@jupyter-widgets/controls",
     "model_name": "HBoxModel",
     "state": {
      "_dom_classes": [],
      "_model_module": "@jupyter-widgets/controls",
      "_model_module_version": "1.5.0",
      "_model_name": "HBoxModel",
      "_view_count": null,
      "_view_module": "@jupyter-widgets/controls",
      "_view_module_version": "1.5.0",
      "_view_name": "HBoxView",
      "box_style": "",
      "children": [
       "IPY_MODEL_01524962b3594b71aa6ac4cf9a67d440",
       "IPY_MODEL_57b9b4c9a1434214ba432ef588799e2c"
      ],
      "layout": "IPY_MODEL_c7106c7cfc11497fbb5166be368a5e39"
     }
    },
    "141f52ef1075472d9417bb99bc618234": {
     "model_module": "@jupyter-widgets/controls",
     "model_name": "HTMLModel",
     "state": {
      "_dom_classes": [],
      "_model_module": "@jupyter-widgets/controls",
      "_model_module_version": "1.5.0",
      "_model_name": "HTMLModel",
      "_view_count": null,
      "_view_module": "@jupyter-widgets/controls",
      "_view_module_version": "1.5.0",
      "_view_name": "HTMLView",
      "description": "",
      "description_tooltip": null,
      "layout": "IPY_MODEL_ab6c3b89fc834da7a7e73685db491816",
      "placeholder": "​",
      "style": "IPY_MODEL_89bfec58f7df40379f54ba60557ef0ee",
      "value": "100% 200/200 [01:04&lt;00:00,  3.06it/s]"
     }
    },
    "1bc1aa0af6db4ed3aa4ac97b50a59be6": {
     "model_module": "@jupyter-widgets/base",
     "model_name": "LayoutModel",
     "state": {
      "_model_module": "@jupyter-widgets/base",
      "_model_module_version": "1.2.0",
      "_model_name": "LayoutModel",
      "_view_count": null,
      "_view_module": "@jupyter-widgets/base",
      "_view_module_version": "1.2.0",
      "_view_name": "LayoutView",
      "align_content": null,
      "align_items": null,
      "align_self": null,
      "border": null,
      "bottom": null,
      "display": null,
      "flex": null,
      "flex_flow": null,
      "grid_area": null,
      "grid_auto_columns": null,
      "grid_auto_flow": null,
      "grid_auto_rows": null,
      "grid_column": null,
      "grid_gap": null,
      "grid_row": null,
      "grid_template_areas": null,
      "grid_template_columns": null,
      "grid_template_rows": null,
      "height": null,
      "justify_content": null,
      "justify_items": null,
      "left": null,
      "margin": null,
      "max_height": null,
      "max_width": null,
      "min_height": null,
      "min_width": null,
      "object_fit": null,
      "object_position": null,
      "order": null,
      "overflow": null,
      "overflow_x": null,
      "overflow_y": null,
      "padding": null,
      "right": null,
      "top": null,
      "visibility": null,
      "width": null
     }
    },
    "1bd4d419f26547f2b410b70cdf0c59fa": {
     "model_module": "@jupyter-widgets/base",
     "model_name": "LayoutModel",
     "state": {
      "_model_module": "@jupyter-widgets/base",
      "_model_module_version": "1.2.0",
      "_model_name": "LayoutModel",
      "_view_count": null,
      "_view_module": "@jupyter-widgets/base",
      "_view_module_version": "1.2.0",
      "_view_name": "LayoutView",
      "align_content": null,
      "align_items": null,
      "align_self": null,
      "border": null,
      "bottom": null,
      "display": null,
      "flex": null,
      "flex_flow": null,
      "grid_area": null,
      "grid_auto_columns": null,
      "grid_auto_flow": null,
      "grid_auto_rows": null,
      "grid_column": null,
      "grid_gap": null,
      "grid_row": null,
      "grid_template_areas": null,
      "grid_template_columns": null,
      "grid_template_rows": null,
      "height": null,
      "justify_content": null,
      "justify_items": null,
      "left": null,
      "margin": null,
      "max_height": null,
      "max_width": null,
      "min_height": null,
      "min_width": null,
      "object_fit": null,
      "object_position": null,
      "order": null,
      "overflow": null,
      "overflow_x": null,
      "overflow_y": null,
      "padding": null,
      "right": null,
      "top": null,
      "visibility": null,
      "width": null
     }
    },
    "1efcb7cec4a4415fa4a1407577e66cad": {
     "model_module": "@jupyter-widgets/base",
     "model_name": "LayoutModel",
     "state": {
      "_model_module": "@jupyter-widgets/base",
      "_model_module_version": "1.2.0",
      "_model_name": "LayoutModel",
      "_view_count": null,
      "_view_module": "@jupyter-widgets/base",
      "_view_module_version": "1.2.0",
      "_view_name": "LayoutView",
      "align_content": null,
      "align_items": null,
      "align_self": null,
      "border": null,
      "bottom": null,
      "display": null,
      "flex": null,
      "flex_flow": null,
      "grid_area": null,
      "grid_auto_columns": null,
      "grid_auto_flow": null,
      "grid_auto_rows": null,
      "grid_column": null,
      "grid_gap": null,
      "grid_row": null,
      "grid_template_areas": null,
      "grid_template_columns": null,
      "grid_template_rows": null,
      "height": null,
      "justify_content": null,
      "justify_items": null,
      "left": null,
      "margin": null,
      "max_height": null,
      "max_width": null,
      "min_height": null,
      "min_width": null,
      "object_fit": null,
      "object_position": null,
      "order": null,
      "overflow": null,
      "overflow_x": null,
      "overflow_y": null,
      "padding": null,
      "right": null,
      "top": null,
      "visibility": null,
      "width": null
     }
    },
    "219ce1b4f5fb49388cbfdc894ad91cfd": {
     "model_module": "@jupyter-widgets/controls",
     "model_name": "HTMLModel",
     "state": {
      "_dom_classes": [],
      "_model_module": "@jupyter-widgets/controls",
      "_model_module_version": "1.5.0",
      "_model_name": "HTMLModel",
      "_view_count": null,
      "_view_module": "@jupyter-widgets/controls",
      "_view_module_version": "1.5.0",
      "_view_name": "HTMLView",
      "description": "",
      "description_tooltip": null,
      "layout": "IPY_MODEL_110208075a224838b502d6a12e9db96e",
      "placeholder": "​",
      "style": "IPY_MODEL_e7a173278e19425d8abfedd323009181",
      "value": "100% 200/200 [00:13&lt;00:00, 14.86it/s]"
     }
    },
    "23242ca8dcf34186a29d0bd303229e1a": {
     "model_module": "@jupyter-widgets/controls",
     "model_name": "ProgressStyleModel",
     "state": {
      "_model_module": "@jupyter-widgets/controls",
      "_model_module_version": "1.5.0",
      "_model_name": "ProgressStyleModel",
      "_view_count": null,
      "_view_module": "@jupyter-widgets/base",
      "_view_module_version": "1.2.0",
      "_view_name": "StyleView",
      "bar_color": null,
      "description_width": "initial"
     }
    },
    "26758a35b9ef4314867ad7f47ddee694": {
     "model_module": "@jupyter-widgets/base",
     "model_name": "LayoutModel",
     "state": {
      "_model_module": "@jupyter-widgets/base",
      "_model_module_version": "1.2.0",
      "_model_name": "LayoutModel",
      "_view_count": null,
      "_view_module": "@jupyter-widgets/base",
      "_view_module_version": "1.2.0",
      "_view_name": "LayoutView",
      "align_content": null,
      "align_items": null,
      "align_self": null,
      "border": null,
      "bottom": null,
      "display": null,
      "flex": null,
      "flex_flow": null,
      "grid_area": null,
      "grid_auto_columns": null,
      "grid_auto_flow": null,
      "grid_auto_rows": null,
      "grid_column": null,
      "grid_gap": null,
      "grid_row": null,
      "grid_template_areas": null,
      "grid_template_columns": null,
      "grid_template_rows": null,
      "height": null,
      "justify_content": null,
      "justify_items": null,
      "left": null,
      "margin": null,
      "max_height": null,
      "max_width": null,
      "min_height": null,
      "min_width": null,
      "object_fit": null,
      "object_position": null,
      "order": null,
      "overflow": null,
      "overflow_x": null,
      "overflow_y": null,
      "padding": null,
      "right": null,
      "top": null,
      "visibility": null,
      "width": null
     }
    },
    "2af69d73164e42d4a93eb111d7a6834e": {
     "model_module": "@jupyter-widgets/controls",
     "model_name": "HBoxModel",
     "state": {
      "_dom_classes": [],
      "_model_module": "@jupyter-widgets/controls",
      "_model_module_version": "1.5.0",
      "_model_name": "HBoxModel",
      "_view_count": null,
      "_view_module": "@jupyter-widgets/controls",
      "_view_module_version": "1.5.0",
      "_view_name": "HBoxView",
      "box_style": "",
      "children": [
       "IPY_MODEL_5cd5296fdc554849bc6e2cba1a9b4952",
       "IPY_MODEL_53ad073955954a08a7a3614c8117f809"
      ],
      "layout": "IPY_MODEL_6ab54db6adc4485ea8b46cb31317e886"
     }
    },
    "2b48b6b9c92647f683c95df370fa976f": {
     "model_module": "@jupyter-widgets/controls",
     "model_name": "ProgressStyleModel",
     "state": {
      "_model_module": "@jupyter-widgets/controls",
      "_model_module_version": "1.5.0",
      "_model_name": "ProgressStyleModel",
      "_view_count": null,
      "_view_module": "@jupyter-widgets/base",
      "_view_module_version": "1.2.0",
      "_view_name": "StyleView",
      "bar_color": null,
      "description_width": "initial"
     }
    },
    "2c77199197e1490dbd3c5dd60157caaa": {
     "model_module": "@jupyter-widgets/base",
     "model_name": "LayoutModel",
     "state": {
      "_model_module": "@jupyter-widgets/base",
      "_model_module_version": "1.2.0",
      "_model_name": "LayoutModel",
      "_view_count": null,
      "_view_module": "@jupyter-widgets/base",
      "_view_module_version": "1.2.0",
      "_view_name": "LayoutView",
      "align_content": null,
      "align_items": null,
      "align_self": null,
      "border": null,
      "bottom": null,
      "display": null,
      "flex": null,
      "flex_flow": null,
      "grid_area": null,
      "grid_auto_columns": null,
      "grid_auto_flow": null,
      "grid_auto_rows": null,
      "grid_column": null,
      "grid_gap": null,
      "grid_row": null,
      "grid_template_areas": null,
      "grid_template_columns": null,
      "grid_template_rows": null,
      "height": null,
      "justify_content": null,
      "justify_items": null,
      "left": null,
      "margin": null,
      "max_height": null,
      "max_width": null,
      "min_height": null,
      "min_width": null,
      "object_fit": null,
      "object_position": null,
      "order": null,
      "overflow": null,
      "overflow_x": null,
      "overflow_y": null,
      "padding": null,
      "right": null,
      "top": null,
      "visibility": null,
      "width": null
     }
    },
    "2e5950251c9b4b01af3c5105894f0275": {
     "model_module": "@jupyter-widgets/controls",
     "model_name": "ProgressStyleModel",
     "state": {
      "_model_module": "@jupyter-widgets/controls",
      "_model_module_version": "1.5.0",
      "_model_name": "ProgressStyleModel",
      "_view_count": null,
      "_view_module": "@jupyter-widgets/base",
      "_view_module_version": "1.2.0",
      "_view_name": "StyleView",
      "bar_color": null,
      "description_width": "initial"
     }
    },
    "344152ccdd7d48b3b6a023c463790495": {
     "model_module": "@jupyter-widgets/base",
     "model_name": "LayoutModel",
     "state": {
      "_model_module": "@jupyter-widgets/base",
      "_model_module_version": "1.2.0",
      "_model_name": "LayoutModel",
      "_view_count": null,
      "_view_module": "@jupyter-widgets/base",
      "_view_module_version": "1.2.0",
      "_view_name": "LayoutView",
      "align_content": null,
      "align_items": null,
      "align_self": null,
      "border": null,
      "bottom": null,
      "display": null,
      "flex": null,
      "flex_flow": null,
      "grid_area": null,
      "grid_auto_columns": null,
      "grid_auto_flow": null,
      "grid_auto_rows": null,
      "grid_column": null,
      "grid_gap": null,
      "grid_row": null,
      "grid_template_areas": null,
      "grid_template_columns": null,
      "grid_template_rows": null,
      "height": null,
      "justify_content": null,
      "justify_items": null,
      "left": null,
      "margin": null,
      "max_height": null,
      "max_width": null,
      "min_height": null,
      "min_width": null,
      "object_fit": null,
      "object_position": null,
      "order": null,
      "overflow": null,
      "overflow_x": null,
      "overflow_y": null,
      "padding": null,
      "right": null,
      "top": null,
      "visibility": null,
      "width": null
     }
    },
    "3b99f1e936e54586b6307f2e031060d9": {
     "model_module": "@jupyter-widgets/controls",
     "model_name": "ProgressStyleModel",
     "state": {
      "_model_module": "@jupyter-widgets/controls",
      "_model_module_version": "1.5.0",
      "_model_name": "ProgressStyleModel",
      "_view_count": null,
      "_view_module": "@jupyter-widgets/base",
      "_view_module_version": "1.2.0",
      "_view_name": "StyleView",
      "bar_color": null,
      "description_width": "initial"
     }
    },
    "3bebb7d4c70d49ba9024bb6c50b0667b": {
     "model_module": "@jupyter-widgets/controls",
     "model_name": "IntProgressModel",
     "state": {
      "_dom_classes": [],
      "_model_module": "@jupyter-widgets/controls",
      "_model_module_version": "1.5.0",
      "_model_name": "IntProgressModel",
      "_view_count": null,
      "_view_module": "@jupyter-widgets/controls",
      "_view_module_version": "1.5.0",
      "_view_name": "ProgressView",
      "bar_style": "success",
      "description": "1200-th epoch, loss: 0.0000, train accuracy: 1.00",
      "description_tooltip": null,
      "layout": "IPY_MODEL_e393a69dc1f44500b9bf3f5e8876cca5",
      "max": 1200,
      "min": 0,
      "orientation": "horizontal",
      "style": "IPY_MODEL_cddbe5bb4cc34370b96d6c46734aa0c3",
      "value": 1200
     }
    },
    "3e8dfb530f7c4d35b66d4d4405ba8675": {
     "model_module": "@jupyter-widgets/controls",
     "model_name": "HBoxModel",
     "state": {
      "_dom_classes": [],
      "_model_module": "@jupyter-widgets/controls",
      "_model_module_version": "1.5.0",
      "_model_name": "HBoxModel",
      "_view_count": null,
      "_view_module": "@jupyter-widgets/controls",
      "_view_module_version": "1.5.0",
      "_view_name": "HBoxView",
      "box_style": "",
      "children": [
       "IPY_MODEL_d1854eea36014b29bd4c30e323d3cd67",
       "IPY_MODEL_ab3b8f2c52074db39cf18dfe24d7cbe1"
      ],
      "layout": "IPY_MODEL_0e4044d1ba544f38a0385da54dda15f9"
     }
    },
    "3f2f6fe5a467453a8c138d72dc9faf59": {
     "model_module": "@jupyter-widgets/controls",
     "model_name": "HBoxModel",
     "state": {
      "_dom_classes": [],
      "_model_module": "@jupyter-widgets/controls",
      "_model_module_version": "1.5.0",
      "_model_name": "HBoxModel",
      "_view_count": null,
      "_view_module": "@jupyter-widgets/controls",
      "_view_module_version": "1.5.0",
      "_view_name": "HBoxView",
      "box_style": "",
      "children": [
       "IPY_MODEL_43bb109171e04fa1b2e1b96ea5000517",
       "IPY_MODEL_141f52ef1075472d9417bb99bc618234"
      ],
      "layout": "IPY_MODEL_69fc48bbfd0c4023b9124369385ece0a"
     }
    },
    "40b2542c93d34914b1fee571a8de594e": {
     "model_module": "@jupyter-widgets/controls",
     "model_name": "DescriptionStyleModel",
     "state": {
      "_model_module": "@jupyter-widgets/controls",
      "_model_module_version": "1.5.0",
      "_model_name": "DescriptionStyleModel",
      "_view_count": null,
      "_view_module": "@jupyter-widgets/base",
      "_view_module_version": "1.2.0",
      "_view_name": "StyleView",
      "description_width": ""
     }
    },
    "43bb109171e04fa1b2e1b96ea5000517": {
     "model_module": "@jupyter-widgets/controls",
     "model_name": "IntProgressModel",
     "state": {
      "_dom_classes": [],
      "_model_module": "@jupyter-widgets/controls",
      "_model_module_version": "1.5.0",
      "_model_name": "IntProgressModel",
      "_view_count": null,
      "_view_module": "@jupyter-widgets/controls",
      "_view_module_version": "1.5.0",
      "_view_name": "ProgressView",
      "bar_style": "success",
      "description": "200-th epoch, loss: 0.0001, train accuracy: 1.00",
      "description_tooltip": null,
      "layout": "IPY_MODEL_f3a9b25ca9a148a89b2be00919ec3f5c",
      "max": 200,
      "min": 0,
      "orientation": "horizontal",
      "style": "IPY_MODEL_f07b2acfd5714462831bfafb4740816a",
      "value": 200
     }
    },
    "459536bca6f0405fb185b8bd6e1ef5a2": {
     "model_module": "@jupyter-widgets/controls",
     "model_name": "DescriptionStyleModel",
     "state": {
      "_model_module": "@jupyter-widgets/controls",
      "_model_module_version": "1.5.0",
      "_model_name": "DescriptionStyleModel",
      "_view_count": null,
      "_view_module": "@jupyter-widgets/base",
      "_view_module_version": "1.2.0",
      "_view_name": "StyleView",
      "description_width": ""
     }
    },
    "486395076f644f9aa55a93ab320f648b": {
     "model_module": "@jupyter-widgets/controls",
     "model_name": "IntProgressModel",
     "state": {
      "_dom_classes": [],
      "_model_module": "@jupyter-widgets/controls",
      "_model_module_version": "1.5.0",
      "_model_name": "IntProgressModel",
      "_view_count": null,
      "_view_module": "@jupyter-widgets/controls",
      "_view_module_version": "1.5.0",
      "_view_name": "ProgressView",
      "bar_style": "success",
      "description": "600-th epoch, loss: 0.0000, train accuracy: 1.00",
      "description_tooltip": null,
      "layout": "IPY_MODEL_6992937692b9478bae4812cee5327279",
      "max": 600,
      "min": 0,
      "orientation": "horizontal",
      "style": "IPY_MODEL_2e5950251c9b4b01af3c5105894f0275",
      "value": 600
     }
    },
    "4a9e4c03e418489ab3c970eeb59eac77": {
     "model_module": "@jupyter-widgets/controls",
     "model_name": "DescriptionStyleModel",
     "state": {
      "_model_module": "@jupyter-widgets/controls",
      "_model_module_version": "1.5.0",
      "_model_name": "DescriptionStyleModel",
      "_view_count": null,
      "_view_module": "@jupyter-widgets/base",
      "_view_module_version": "1.2.0",
      "_view_name": "StyleView",
      "description_width": ""
     }
    },
    "4d3804765a6641f2aa874916227ea1cf": {
     "model_module": "@jupyter-widgets/controls",
     "model_name": "IntProgressModel",
     "state": {
      "_dom_classes": [],
      "_model_module": "@jupyter-widgets/controls",
      "_model_module_version": "1.5.0",
      "_model_name": "IntProgressModel",
      "_view_count": null,
      "_view_module": "@jupyter-widgets/controls",
      "_view_module_version": "1.5.0",
      "_view_name": "ProgressView",
      "bar_style": "success",
      "description": "200-th epoch, loss: 0.0001, train accuracy: 1.00",
      "description_tooltip": null,
      "layout": "IPY_MODEL_26758a35b9ef4314867ad7f47ddee694",
      "max": 200,
      "min": 0,
      "orientation": "horizontal",
      "style": "IPY_MODEL_3b99f1e936e54586b6307f2e031060d9",
      "value": 200
     }
    },
    "53ad073955954a08a7a3614c8117f809": {
     "model_module": "@jupyter-widgets/controls",
     "model_name": "HTMLModel",
     "state": {
      "_dom_classes": [],
      "_model_module": "@jupyter-widgets/controls",
      "_model_module_version": "1.5.0",
      "_model_name": "HTMLModel",
      "_view_count": null,
      "_view_module": "@jupyter-widgets/controls",
      "_view_module_version": "1.5.0",
      "_view_name": "HTMLView",
      "description": "",
      "description_tooltip": null,
      "layout": "IPY_MODEL_93112a8d5e2b48dabfbf1e3de6a100d5",
      "placeholder": "​",
      "style": "IPY_MODEL_67662471852e4dc8a73545ba27541352",
      "value": "100% 300/300 [00:42&lt;00:00,  7.14it/s]"
     }
    },
    "5598edecb47240e687ea3e06eca37b48": {
     "model_module": "@jupyter-widgets/controls",
     "model_name": "IntProgressModel",
     "state": {
      "_dom_classes": [],
      "_model_module": "@jupyter-widgets/controls",
      "_model_module_version": "1.5.0",
      "_model_name": "IntProgressModel",
      "_view_count": null,
      "_view_module": "@jupyter-widgets/controls",
      "_view_module_version": "1.5.0",
      "_view_name": "ProgressView",
      "bar_style": "success",
      "description": "400-th epoch, loss: 0.0000, train accuracy: 1.00",
      "description_tooltip": null,
      "layout": "IPY_MODEL_af15a4b762664f52a664d7e31ece6af1",
      "max": 400,
      "min": 0,
      "orientation": "horizontal",
      "style": "IPY_MODEL_64a2b1ff662242b6b477ebd9ce0cecb2",
      "value": 400
     }
    },
    "57b9b4c9a1434214ba432ef588799e2c": {
     "model_module": "@jupyter-widgets/controls",
     "model_name": "HTMLModel",
     "state": {
      "_dom_classes": [],
      "_model_module": "@jupyter-widgets/controls",
      "_model_module_version": "1.5.0",
      "_model_name": "HTMLModel",
      "_view_count": null,
      "_view_module": "@jupyter-widgets/controls",
      "_view_module_version": "1.5.0",
      "_view_name": "HTMLView",
      "description": "",
      "description_tooltip": null,
      "layout": "IPY_MODEL_2c77199197e1490dbd3c5dd60157caaa",
      "placeholder": "​",
      "style": "IPY_MODEL_018630e3fb2543d39174e5146d71897f",
      "value": "100% 50000/50000 [00:44&lt;00:00, 1118.77it/s]"
     }
    },
    "57eedde1554b40228ed278de5c6c9ce1": {
     "model_module": "@jupyter-widgets/controls",
     "model_name": "DescriptionStyleModel",
     "state": {
      "_model_module": "@jupyter-widgets/controls",
      "_model_module_version": "1.5.0",
      "_model_name": "DescriptionStyleModel",
      "_view_count": null,
      "_view_module": "@jupyter-widgets/base",
      "_view_module_version": "1.2.0",
      "_view_name": "StyleView",
      "description_width": ""
     }
    },
    "5cd5296fdc554849bc6e2cba1a9b4952": {
     "model_module": "@jupyter-widgets/controls",
     "model_name": "IntProgressModel",
     "state": {
      "_dom_classes": [],
      "_model_module": "@jupyter-widgets/controls",
      "_model_module_version": "1.5.0",
      "_model_name": "IntProgressModel",
      "_view_count": null,
      "_view_module": "@jupyter-widgets/controls",
      "_view_module_version": "1.5.0",
      "_view_name": "ProgressView",
      "bar_style": "success",
      "description": "300-th epoch, loss: 0.0001, train accuracy: 1.00",
      "description_tooltip": null,
      "layout": "IPY_MODEL_d52c226d51f44e10a8726eb7fc4196b8",
      "max": 300,
      "min": 0,
      "orientation": "horizontal",
      "style": "IPY_MODEL_23242ca8dcf34186a29d0bd303229e1a",
      "value": 300
     }
    },
    "6096bb6a29c44f618690f0c83ed91abf": {
     "model_module": "@jupyter-widgets/controls",
     "model_name": "IntProgressModel",
     "state": {
      "_dom_classes": [],
      "_model_module": "@jupyter-widgets/controls",
      "_model_module_version": "1.5.0",
      "_model_name": "IntProgressModel",
      "_view_count": null,
      "_view_module": "@jupyter-widgets/controls",
      "_view_module_version": "1.5.0",
      "_view_name": "ProgressView",
      "bar_style": "success",
      "description": "200-th epoch, loss: 0.0001, train accuracy: 1.00",
      "description_tooltip": null,
      "layout": "IPY_MODEL_85cc0b6074614090b39badcf91229f69",
      "max": 200,
      "min": 0,
      "orientation": "horizontal",
      "style": "IPY_MODEL_2b48b6b9c92647f683c95df370fa976f",
      "value": 200
     }
    },
    "622b78e9cef041b09aca2e46139fe7ae": {
     "model_module": "@jupyter-widgets/controls",
     "model_name": "ProgressStyleModel",
     "state": {
      "_model_module": "@jupyter-widgets/controls",
      "_model_module_version": "1.5.0",
      "_model_name": "ProgressStyleModel",
      "_view_count": null,
      "_view_module": "@jupyter-widgets/base",
      "_view_module_version": "1.2.0",
      "_view_name": "StyleView",
      "bar_color": null,
      "description_width": "initial"
     }
    },
    "64a2b1ff662242b6b477ebd9ce0cecb2": {
     "model_module": "@jupyter-widgets/controls",
     "model_name": "ProgressStyleModel",
     "state": {
      "_model_module": "@jupyter-widgets/controls",
      "_model_module_version": "1.5.0",
      "_model_name": "ProgressStyleModel",
      "_view_count": null,
      "_view_module": "@jupyter-widgets/base",
      "_view_module_version": "1.2.0",
      "_view_name": "StyleView",
      "bar_color": null,
      "description_width": "initial"
     }
    },
    "66258908f5f646d995f067c9116fc596": {
     "model_module": "@jupyter-widgets/controls",
     "model_name": "DescriptionStyleModel",
     "state": {
      "_model_module": "@jupyter-widgets/controls",
      "_model_module_version": "1.5.0",
      "_model_name": "DescriptionStyleModel",
      "_view_count": null,
      "_view_module": "@jupyter-widgets/base",
      "_view_module_version": "1.2.0",
      "_view_name": "StyleView",
      "description_width": ""
     }
    },
    "67662471852e4dc8a73545ba27541352": {
     "model_module": "@jupyter-widgets/controls",
     "model_name": "DescriptionStyleModel",
     "state": {
      "_model_module": "@jupyter-widgets/controls",
      "_model_module_version": "1.5.0",
      "_model_name": "DescriptionStyleModel",
      "_view_count": null,
      "_view_module": "@jupyter-widgets/base",
      "_view_module_version": "1.2.0",
      "_view_name": "StyleView",
      "description_width": ""
     }
    },
    "6992937692b9478bae4812cee5327279": {
     "model_module": "@jupyter-widgets/base",
     "model_name": "LayoutModel",
     "state": {
      "_model_module": "@jupyter-widgets/base",
      "_model_module_version": "1.2.0",
      "_model_name": "LayoutModel",
      "_view_count": null,
      "_view_module": "@jupyter-widgets/base",
      "_view_module_version": "1.2.0",
      "_view_name": "LayoutView",
      "align_content": null,
      "align_items": null,
      "align_self": null,
      "border": null,
      "bottom": null,
      "display": null,
      "flex": null,
      "flex_flow": null,
      "grid_area": null,
      "grid_auto_columns": null,
      "grid_auto_flow": null,
      "grid_auto_rows": null,
      "grid_column": null,
      "grid_gap": null,
      "grid_row": null,
      "grid_template_areas": null,
      "grid_template_columns": null,
      "grid_template_rows": null,
      "height": null,
      "justify_content": null,
      "justify_items": null,
      "left": null,
      "margin": null,
      "max_height": null,
      "max_width": null,
      "min_height": null,
      "min_width": null,
      "object_fit": null,
      "object_position": null,
      "order": null,
      "overflow": null,
      "overflow_x": null,
      "overflow_y": null,
      "padding": null,
      "right": null,
      "top": null,
      "visibility": null,
      "width": null
     }
    },
    "69fc48bbfd0c4023b9124369385ece0a": {
     "model_module": "@jupyter-widgets/base",
     "model_name": "LayoutModel",
     "state": {
      "_model_module": "@jupyter-widgets/base",
      "_model_module_version": "1.2.0",
      "_model_name": "LayoutModel",
      "_view_count": null,
      "_view_module": "@jupyter-widgets/base",
      "_view_module_version": "1.2.0",
      "_view_name": "LayoutView",
      "align_content": null,
      "align_items": null,
      "align_self": null,
      "border": null,
      "bottom": null,
      "display": null,
      "flex": null,
      "flex_flow": null,
      "grid_area": null,
      "grid_auto_columns": null,
      "grid_auto_flow": null,
      "grid_auto_rows": null,
      "grid_column": null,
      "grid_gap": null,
      "grid_row": null,
      "grid_template_areas": null,
      "grid_template_columns": null,
      "grid_template_rows": null,
      "height": null,
      "justify_content": null,
      "justify_items": null,
      "left": null,
      "margin": null,
      "max_height": null,
      "max_width": null,
      "min_height": null,
      "min_width": null,
      "object_fit": null,
      "object_position": null,
      "order": null,
      "overflow": null,
      "overflow_x": null,
      "overflow_y": null,
      "padding": null,
      "right": null,
      "top": null,
      "visibility": null,
      "width": null
     }
    },
    "6a333347737d4724997fd7e91408be25": {
     "model_module": "@jupyter-widgets/controls",
     "model_name": "IntProgressModel",
     "state": {
      "_dom_classes": [],
      "_model_module": "@jupyter-widgets/controls",
      "_model_module_version": "1.5.0",
      "_model_name": "IntProgressModel",
      "_view_count": null,
      "_view_module": "@jupyter-widgets/controls",
      "_view_module_version": "1.5.0",
      "_view_name": "ProgressView",
      "bar_style": "success",
      "description": "600-th epoch, loss: 0.0000, train accuracy: 1.00",
      "description_tooltip": null,
      "layout": "IPY_MODEL_7c56e04f80af4dff8265379ad9ea383c",
      "max": 600,
      "min": 0,
      "orientation": "horizontal",
      "style": "IPY_MODEL_8a8d58c8783145b099f7ebb09031a0d0",
      "value": 600
     }
    },
    "6ab54db6adc4485ea8b46cb31317e886": {
     "model_module": "@jupyter-widgets/base",
     "model_name": "LayoutModel",
     "state": {
      "_model_module": "@jupyter-widgets/base",
      "_model_module_version": "1.2.0",
      "_model_name": "LayoutModel",
      "_view_count": null,
      "_view_module": "@jupyter-widgets/base",
      "_view_module_version": "1.2.0",
      "_view_name": "LayoutView",
      "align_content": null,
      "align_items": null,
      "align_self": null,
      "border": null,
      "bottom": null,
      "display": null,
      "flex": null,
      "flex_flow": null,
      "grid_area": null,
      "grid_auto_columns": null,
      "grid_auto_flow": null,
      "grid_auto_rows": null,
      "grid_column": null,
      "grid_gap": null,
      "grid_row": null,
      "grid_template_areas": null,
      "grid_template_columns": null,
      "grid_template_rows": null,
      "height": null,
      "justify_content": null,
      "justify_items": null,
      "left": null,
      "margin": null,
      "max_height": null,
      "max_width": null,
      "min_height": null,
      "min_width": null,
      "object_fit": null,
      "object_position": null,
      "order": null,
      "overflow": null,
      "overflow_x": null,
      "overflow_y": null,
      "padding": null,
      "right": null,
      "top": null,
      "visibility": null,
      "width": null
     }
    },
    "6bbdea0206324619a738d18b68d6ecdd": {
     "model_module": "@jupyter-widgets/controls",
     "model_name": "ProgressStyleModel",
     "state": {
      "_model_module": "@jupyter-widgets/controls",
      "_model_module_version": "1.5.0",
      "_model_name": "ProgressStyleModel",
      "_view_count": null,
      "_view_module": "@jupyter-widgets/base",
      "_view_module_version": "1.2.0",
      "_view_name": "StyleView",
      "bar_color": null,
      "description_width": "initial"
     }
    },
    "6de3852c16ea43b39209887b2d8419d0": {
     "model_module": "@jupyter-widgets/controls",
     "model_name": "HTMLModel",
     "state": {
      "_dom_classes": [],
      "_model_module": "@jupyter-widgets/controls",
      "_model_module_version": "1.5.0",
      "_model_name": "HTMLModel",
      "_view_count": null,
      "_view_module": "@jupyter-widgets/controls",
      "_view_module_version": "1.5.0",
      "_view_name": "HTMLView",
      "description": "",
      "description_tooltip": null,
      "layout": "IPY_MODEL_a9ad633cdbf04e04a95bac23aa806f10",
      "placeholder": "​",
      "style": "IPY_MODEL_965280ee0c5e4e478e09811fc6f06a3d",
      "value": "100% 200/200 [00:13&lt;00:00, 14.53it/s]"
     }
    },
    "6eeb2f5bec00487dbd402ee22bda6951": {
     "model_module": "@jupyter-widgets/controls",
     "model_name": "HBoxModel",
     "state": {
      "_dom_classes": [],
      "_model_module": "@jupyter-widgets/controls",
      "_model_module_version": "1.5.0",
      "_model_name": "HBoxModel",
      "_view_count": null,
      "_view_module": "@jupyter-widgets/controls",
      "_view_module_version": "1.5.0",
      "_view_name": "HBoxView",
      "box_style": "",
      "children": [
       "IPY_MODEL_6096bb6a29c44f618690f0c83ed91abf",
       "IPY_MODEL_219ce1b4f5fb49388cbfdc894ad91cfd"
      ],
      "layout": "IPY_MODEL_08781c42de9b4348964092889267288e"
     }
    },
    "76a115831d914413acddc3353146d426": {
     "model_module": "@jupyter-widgets/controls",
     "model_name": "HBoxModel",
     "state": {
      "_dom_classes": [],
      "_model_module": "@jupyter-widgets/controls",
      "_model_module_version": "1.5.0",
      "_model_name": "HBoxModel",
      "_view_count": null,
      "_view_module": "@jupyter-widgets/controls",
      "_view_module_version": "1.5.0",
      "_view_name": "HBoxView",
      "box_style": "",
      "children": [
       "IPY_MODEL_3bebb7d4c70d49ba9024bb6c50b0667b",
       "IPY_MODEL_0d2e0ae24820404485196ff377c8eee6"
      ],
      "layout": "IPY_MODEL_82c46b7e73ba4787b48c41f636794e07"
     }
    },
    "7c56e04f80af4dff8265379ad9ea383c": {
     "model_module": "@jupyter-widgets/base",
     "model_name": "LayoutModel",
     "state": {
      "_model_module": "@jupyter-widgets/base",
      "_model_module_version": "1.2.0",
      "_model_name": "LayoutModel",
      "_view_count": null,
      "_view_module": "@jupyter-widgets/base",
      "_view_module_version": "1.2.0",
      "_view_name": "LayoutView",
      "align_content": null,
      "align_items": null,
      "align_self": null,
      "border": null,
      "bottom": null,
      "display": null,
      "flex": null,
      "flex_flow": null,
      "grid_area": null,
      "grid_auto_columns": null,
      "grid_auto_flow": null,
      "grid_auto_rows": null,
      "grid_column": null,
      "grid_gap": null,
      "grid_row": null,
      "grid_template_areas": null,
      "grid_template_columns": null,
      "grid_template_rows": null,
      "height": null,
      "justify_content": null,
      "justify_items": null,
      "left": null,
      "margin": null,
      "max_height": null,
      "max_width": null,
      "min_height": null,
      "min_width": null,
      "object_fit": null,
      "object_position": null,
      "order": null,
      "overflow": null,
      "overflow_x": null,
      "overflow_y": null,
      "padding": null,
      "right": null,
      "top": null,
      "visibility": null,
      "width": null
     }
    },
    "8199bf39e4ef4ca684026343a643d8e0": {
     "model_module": "@jupyter-widgets/controls",
     "model_name": "IntProgressModel",
     "state": {
      "_dom_classes": [],
      "_model_module": "@jupyter-widgets/controls",
      "_model_module_version": "1.5.0",
      "_model_name": "IntProgressModel",
      "_view_count": null,
      "_view_module": "@jupyter-widgets/controls",
      "_view_module_version": "1.5.0",
      "_view_name": "ProgressView",
      "bar_style": "success",
      "description": "200-th epoch, loss: 0.0170, train accuracy: 1.00",
      "description_tooltip": null,
      "layout": "IPY_MODEL_f8364c8e73dc4cb6b5326a0496c3cd66",
      "max": 200,
      "min": 0,
      "orientation": "horizontal",
      "style": "IPY_MODEL_6bbdea0206324619a738d18b68d6ecdd",
      "value": 200
     }
    },
    "82c46b7e73ba4787b48c41f636794e07": {
     "model_module": "@jupyter-widgets/base",
     "model_name": "LayoutModel",
     "state": {
      "_model_module": "@jupyter-widgets/base",
      "_model_module_version": "1.2.0",
      "_model_name": "LayoutModel",
      "_view_count": null,
      "_view_module": "@jupyter-widgets/base",
      "_view_module_version": "1.2.0",
      "_view_name": "LayoutView",
      "align_content": null,
      "align_items": null,
      "align_self": null,
      "border": null,
      "bottom": null,
      "display": null,
      "flex": null,
      "flex_flow": null,
      "grid_area": null,
      "grid_auto_columns": null,
      "grid_auto_flow": null,
      "grid_auto_rows": null,
      "grid_column": null,
      "grid_gap": null,
      "grid_row": null,
      "grid_template_areas": null,
      "grid_template_columns": null,
      "grid_template_rows": null,
      "height": null,
      "justify_content": null,
      "justify_items": null,
      "left": null,
      "margin": null,
      "max_height": null,
      "max_width": null,
      "min_height": null,
      "min_width": null,
      "object_fit": null,
      "object_position": null,
      "order": null,
      "overflow": null,
      "overflow_x": null,
      "overflow_y": null,
      "padding": null,
      "right": null,
      "top": null,
      "visibility": null,
      "width": null
     }
    },
    "85cc0b6074614090b39badcf91229f69": {
     "model_module": "@jupyter-widgets/base",
     "model_name": "LayoutModel",
     "state": {
      "_model_module": "@jupyter-widgets/base",
      "_model_module_version": "1.2.0",
      "_model_name": "LayoutModel",
      "_view_count": null,
      "_view_module": "@jupyter-widgets/base",
      "_view_module_version": "1.2.0",
      "_view_name": "LayoutView",
      "align_content": null,
      "align_items": null,
      "align_self": null,
      "border": null,
      "bottom": null,
      "display": null,
      "flex": null,
      "flex_flow": null,
      "grid_area": null,
      "grid_auto_columns": null,
      "grid_auto_flow": null,
      "grid_auto_rows": null,
      "grid_column": null,
      "grid_gap": null,
      "grid_row": null,
      "grid_template_areas": null,
      "grid_template_columns": null,
      "grid_template_rows": null,
      "height": null,
      "justify_content": null,
      "justify_items": null,
      "left": null,
      "margin": null,
      "max_height": null,
      "max_width": null,
      "min_height": null,
      "min_width": null,
      "object_fit": null,
      "object_position": null,
      "order": null,
      "overflow": null,
      "overflow_x": null,
      "overflow_y": null,
      "padding": null,
      "right": null,
      "top": null,
      "visibility": null,
      "width": null
     }
    },
    "879fcec4f09a414eaa180d3b84509e9d": {
     "model_module": "@jupyter-widgets/base",
     "model_name": "LayoutModel",
     "state": {
      "_model_module": "@jupyter-widgets/base",
      "_model_module_version": "1.2.0",
      "_model_name": "LayoutModel",
      "_view_count": null,
      "_view_module": "@jupyter-widgets/base",
      "_view_module_version": "1.2.0",
      "_view_name": "LayoutView",
      "align_content": null,
      "align_items": null,
      "align_self": null,
      "border": null,
      "bottom": null,
      "display": null,
      "flex": null,
      "flex_flow": null,
      "grid_area": null,
      "grid_auto_columns": null,
      "grid_auto_flow": null,
      "grid_auto_rows": null,
      "grid_column": null,
      "grid_gap": null,
      "grid_row": null,
      "grid_template_areas": null,
      "grid_template_columns": null,
      "grid_template_rows": null,
      "height": null,
      "justify_content": null,
      "justify_items": null,
      "left": null,
      "margin": null,
      "max_height": null,
      "max_width": null,
      "min_height": null,
      "min_width": null,
      "object_fit": null,
      "object_position": null,
      "order": null,
      "overflow": null,
      "overflow_x": null,
      "overflow_y": null,
      "padding": null,
      "right": null,
      "top": null,
      "visibility": null,
      "width": null
     }
    },
    "89bfec58f7df40379f54ba60557ef0ee": {
     "model_module": "@jupyter-widgets/controls",
     "model_name": "DescriptionStyleModel",
     "state": {
      "_model_module": "@jupyter-widgets/controls",
      "_model_module_version": "1.5.0",
      "_model_name": "DescriptionStyleModel",
      "_view_count": null,
      "_view_module": "@jupyter-widgets/base",
      "_view_module_version": "1.2.0",
      "_view_name": "StyleView",
      "description_width": ""
     }
    },
    "8a8d58c8783145b099f7ebb09031a0d0": {
     "model_module": "@jupyter-widgets/controls",
     "model_name": "ProgressStyleModel",
     "state": {
      "_model_module": "@jupyter-widgets/controls",
      "_model_module_version": "1.5.0",
      "_model_name": "ProgressStyleModel",
      "_view_count": null,
      "_view_module": "@jupyter-widgets/base",
      "_view_module_version": "1.2.0",
      "_view_name": "StyleView",
      "bar_color": null,
      "description_width": "initial"
     }
    },
    "93112a8d5e2b48dabfbf1e3de6a100d5": {
     "model_module": "@jupyter-widgets/base",
     "model_name": "LayoutModel",
     "state": {
      "_model_module": "@jupyter-widgets/base",
      "_model_module_version": "1.2.0",
      "_model_name": "LayoutModel",
      "_view_count": null,
      "_view_module": "@jupyter-widgets/base",
      "_view_module_version": "1.2.0",
      "_view_name": "LayoutView",
      "align_content": null,
      "align_items": null,
      "align_self": null,
      "border": null,
      "bottom": null,
      "display": null,
      "flex": null,
      "flex_flow": null,
      "grid_area": null,
      "grid_auto_columns": null,
      "grid_auto_flow": null,
      "grid_auto_rows": null,
      "grid_column": null,
      "grid_gap": null,
      "grid_row": null,
      "grid_template_areas": null,
      "grid_template_columns": null,
      "grid_template_rows": null,
      "height": null,
      "justify_content": null,
      "justify_items": null,
      "left": null,
      "margin": null,
      "max_height": null,
      "max_width": null,
      "min_height": null,
      "min_width": null,
      "object_fit": null,
      "object_position": null,
      "order": null,
      "overflow": null,
      "overflow_x": null,
      "overflow_y": null,
      "padding": null,
      "right": null,
      "top": null,
      "visibility": null,
      "width": null
     }
    },
    "965280ee0c5e4e478e09811fc6f06a3d": {
     "model_module": "@jupyter-widgets/controls",
     "model_name": "DescriptionStyleModel",
     "state": {
      "_model_module": "@jupyter-widgets/controls",
      "_model_module_version": "1.5.0",
      "_model_name": "DescriptionStyleModel",
      "_view_count": null,
      "_view_module": "@jupyter-widgets/base",
      "_view_module_version": "1.2.0",
      "_view_name": "StyleView",
      "description_width": ""
     }
    },
    "98f351191d184493bd2148800ca62775": {
     "model_module": "@jupyter-widgets/base",
     "model_name": "LayoutModel",
     "state": {
      "_model_module": "@jupyter-widgets/base",
      "_model_module_version": "1.2.0",
      "_model_name": "LayoutModel",
      "_view_count": null,
      "_view_module": "@jupyter-widgets/base",
      "_view_module_version": "1.2.0",
      "_view_name": "LayoutView",
      "align_content": null,
      "align_items": null,
      "align_self": null,
      "border": null,
      "bottom": null,
      "display": null,
      "flex": null,
      "flex_flow": null,
      "grid_area": null,
      "grid_auto_columns": null,
      "grid_auto_flow": null,
      "grid_auto_rows": null,
      "grid_column": null,
      "grid_gap": null,
      "grid_row": null,
      "grid_template_areas": null,
      "grid_template_columns": null,
      "grid_template_rows": null,
      "height": null,
      "justify_content": null,
      "justify_items": null,
      "left": null,
      "margin": null,
      "max_height": null,
      "max_width": null,
      "min_height": null,
      "min_width": null,
      "object_fit": null,
      "object_position": null,
      "order": null,
      "overflow": null,
      "overflow_x": null,
      "overflow_y": null,
      "padding": null,
      "right": null,
      "top": null,
      "visibility": null,
      "width": null
     }
    },
    "9e159ac636f248df9a3caadde6f72388": {
     "model_module": "@jupyter-widgets/base",
     "model_name": "LayoutModel",
     "state": {
      "_model_module": "@jupyter-widgets/base",
      "_model_module_version": "1.2.0",
      "_model_name": "LayoutModel",
      "_view_count": null,
      "_view_module": "@jupyter-widgets/base",
      "_view_module_version": "1.2.0",
      "_view_name": "LayoutView",
      "align_content": null,
      "align_items": null,
      "align_self": null,
      "border": null,
      "bottom": null,
      "display": null,
      "flex": null,
      "flex_flow": null,
      "grid_area": null,
      "grid_auto_columns": null,
      "grid_auto_flow": null,
      "grid_auto_rows": null,
      "grid_column": null,
      "grid_gap": null,
      "grid_row": null,
      "grid_template_areas": null,
      "grid_template_columns": null,
      "grid_template_rows": null,
      "height": null,
      "justify_content": null,
      "justify_items": null,
      "left": null,
      "margin": null,
      "max_height": null,
      "max_width": null,
      "min_height": null,
      "min_width": null,
      "object_fit": null,
      "object_position": null,
      "order": null,
      "overflow": null,
      "overflow_x": null,
      "overflow_y": null,
      "padding": null,
      "right": null,
      "top": null,
      "visibility": null,
      "width": null
     }
    },
    "a260605d8aea47bd8a39903f09224bf0": {
     "model_module": "@jupyter-widgets/base",
     "model_name": "LayoutModel",
     "state": {
      "_model_module": "@jupyter-widgets/base",
      "_model_module_version": "1.2.0",
      "_model_name": "LayoutModel",
      "_view_count": null,
      "_view_module": "@jupyter-widgets/base",
      "_view_module_version": "1.2.0",
      "_view_name": "LayoutView",
      "align_content": null,
      "align_items": null,
      "align_self": null,
      "border": null,
      "bottom": null,
      "display": null,
      "flex": null,
      "flex_flow": null,
      "grid_area": null,
      "grid_auto_columns": null,
      "grid_auto_flow": null,
      "grid_auto_rows": null,
      "grid_column": null,
      "grid_gap": null,
      "grid_row": null,
      "grid_template_areas": null,
      "grid_template_columns": null,
      "grid_template_rows": null,
      "height": null,
      "justify_content": null,
      "justify_items": null,
      "left": null,
      "margin": null,
      "max_height": null,
      "max_width": null,
      "min_height": null,
      "min_width": null,
      "object_fit": null,
      "object_position": null,
      "order": null,
      "overflow": null,
      "overflow_x": null,
      "overflow_y": null,
      "padding": null,
      "right": null,
      "top": null,
      "visibility": null,
      "width": null
     }
    },
    "a3ab4f3b4afe4658a97e62058e4b2dc5": {
     "model_module": "@jupyter-widgets/controls",
     "model_name": "HBoxModel",
     "state": {
      "_dom_classes": [],
      "_model_module": "@jupyter-widgets/controls",
      "_model_module_version": "1.5.0",
      "_model_name": "HBoxModel",
      "_view_count": null,
      "_view_module": "@jupyter-widgets/controls",
      "_view_module_version": "1.5.0",
      "_view_name": "HBoxView",
      "box_style": "",
      "children": [
       "IPY_MODEL_e360034826144278ac077c6f8b828224",
       "IPY_MODEL_cd9eb2429a3945c9bbf7d6662d6581ca"
      ],
      "layout": "IPY_MODEL_9e159ac636f248df9a3caadde6f72388"
     }
    },
    "a9ad633cdbf04e04a95bac23aa806f10": {
     "model_module": "@jupyter-widgets/base",
     "model_name": "LayoutModel",
     "state": {
      "_model_module": "@jupyter-widgets/base",
      "_model_module_version": "1.2.0",
      "_model_name": "LayoutModel",
      "_view_count": null,
      "_view_module": "@jupyter-widgets/base",
      "_view_module_version": "1.2.0",
      "_view_name": "LayoutView",
      "align_content": null,
      "align_items": null,
      "align_self": null,
      "border": null,
      "bottom": null,
      "display": null,
      "flex": null,
      "flex_flow": null,
      "grid_area": null,
      "grid_auto_columns": null,
      "grid_auto_flow": null,
      "grid_auto_rows": null,
      "grid_column": null,
      "grid_gap": null,
      "grid_row": null,
      "grid_template_areas": null,
      "grid_template_columns": null,
      "grid_template_rows": null,
      "height": null,
      "justify_content": null,
      "justify_items": null,
      "left": null,
      "margin": null,
      "max_height": null,
      "max_width": null,
      "min_height": null,
      "min_width": null,
      "object_fit": null,
      "object_position": null,
      "order": null,
      "overflow": null,
      "overflow_x": null,
      "overflow_y": null,
      "padding": null,
      "right": null,
      "top": null,
      "visibility": null,
      "width": null
     }
    },
    "ab3b8f2c52074db39cf18dfe24d7cbe1": {
     "model_module": "@jupyter-widgets/controls",
     "model_name": "HTMLModel",
     "state": {
      "_dom_classes": [],
      "_model_module": "@jupyter-widgets/controls",
      "_model_module_version": "1.5.0",
      "_model_name": "HTMLModel",
      "_view_count": null,
      "_view_module": "@jupyter-widgets/controls",
      "_view_module_version": "1.5.0",
      "_view_name": "HTMLView",
      "description": "",
      "description_tooltip": null,
      "layout": "IPY_MODEL_b1aa128e167f47febf8f2f6e06cdc4c8",
      "placeholder": "​",
      "style": "IPY_MODEL_57eedde1554b40228ed278de5c6c9ce1",
      "value": "100% 800/800 [00:27&lt;00:00, 29.33it/s]"
     }
    },
    "ab6c3b89fc834da7a7e73685db491816": {
     "model_module": "@jupyter-widgets/base",
     "model_name": "LayoutModel",
     "state": {
      "_model_module": "@jupyter-widgets/base",
      "_model_module_version": "1.2.0",
      "_model_name": "LayoutModel",
      "_view_count": null,
      "_view_module": "@jupyter-widgets/base",
      "_view_module_version": "1.2.0",
      "_view_name": "LayoutView",
      "align_content": null,
      "align_items": null,
      "align_self": null,
      "border": null,
      "bottom": null,
      "display": null,
      "flex": null,
      "flex_flow": null,
      "grid_area": null,
      "grid_auto_columns": null,
      "grid_auto_flow": null,
      "grid_auto_rows": null,
      "grid_column": null,
      "grid_gap": null,
      "grid_row": null,
      "grid_template_areas": null,
      "grid_template_columns": null,
      "grid_template_rows": null,
      "height": null,
      "justify_content": null,
      "justify_items": null,
      "left": null,
      "margin": null,
      "max_height": null,
      "max_width": null,
      "min_height": null,
      "min_width": null,
      "object_fit": null,
      "object_position": null,
      "order": null,
      "overflow": null,
      "overflow_x": null,
      "overflow_y": null,
      "padding": null,
      "right": null,
      "top": null,
      "visibility": null,
      "width": null
     }
    },
    "ae38954375654d92978dfd3b03e2ccf8": {
     "model_module": "@jupyter-widgets/base",
     "model_name": "LayoutModel",
     "state": {
      "_model_module": "@jupyter-widgets/base",
      "_model_module_version": "1.2.0",
      "_model_name": "LayoutModel",
      "_view_count": null,
      "_view_module": "@jupyter-widgets/base",
      "_view_module_version": "1.2.0",
      "_view_name": "LayoutView",
      "align_content": null,
      "align_items": null,
      "align_self": null,
      "border": null,
      "bottom": null,
      "display": null,
      "flex": null,
      "flex_flow": null,
      "grid_area": null,
      "grid_auto_columns": null,
      "grid_auto_flow": null,
      "grid_auto_rows": null,
      "grid_column": null,
      "grid_gap": null,
      "grid_row": null,
      "grid_template_areas": null,
      "grid_template_columns": null,
      "grid_template_rows": null,
      "height": null,
      "justify_content": null,
      "justify_items": null,
      "left": null,
      "margin": null,
      "max_height": null,
      "max_width": null,
      "min_height": null,
      "min_width": null,
      "object_fit": null,
      "object_position": null,
      "order": null,
      "overflow": null,
      "overflow_x": null,
      "overflow_y": null,
      "padding": null,
      "right": null,
      "top": null,
      "visibility": null,
      "width": null
     }
    },
    "af15a4b762664f52a664d7e31ece6af1": {
     "model_module": "@jupyter-widgets/base",
     "model_name": "LayoutModel",
     "state": {
      "_model_module": "@jupyter-widgets/base",
      "_model_module_version": "1.2.0",
      "_model_name": "LayoutModel",
      "_view_count": null,
      "_view_module": "@jupyter-widgets/base",
      "_view_module_version": "1.2.0",
      "_view_name": "LayoutView",
      "align_content": null,
      "align_items": null,
      "align_self": null,
      "border": null,
      "bottom": null,
      "display": null,
      "flex": null,
      "flex_flow": null,
      "grid_area": null,
      "grid_auto_columns": null,
      "grid_auto_flow": null,
      "grid_auto_rows": null,
      "grid_column": null,
      "grid_gap": null,
      "grid_row": null,
      "grid_template_areas": null,
      "grid_template_columns": null,
      "grid_template_rows": null,
      "height": null,
      "justify_content": null,
      "justify_items": null,
      "left": null,
      "margin": null,
      "max_height": null,
      "max_width": null,
      "min_height": null,
      "min_width": null,
      "object_fit": null,
      "object_position": null,
      "order": null,
      "overflow": null,
      "overflow_x": null,
      "overflow_y": null,
      "padding": null,
      "right": null,
      "top": null,
      "visibility": null,
      "width": null
     }
    },
    "b09e35c6a2264d0bb77ab111cb8891c4": {
     "model_module": "@jupyter-widgets/base",
     "model_name": "LayoutModel",
     "state": {
      "_model_module": "@jupyter-widgets/base",
      "_model_module_version": "1.2.0",
      "_model_name": "LayoutModel",
      "_view_count": null,
      "_view_module": "@jupyter-widgets/base",
      "_view_module_version": "1.2.0",
      "_view_name": "LayoutView",
      "align_content": null,
      "align_items": null,
      "align_self": null,
      "border": null,
      "bottom": null,
      "display": null,
      "flex": null,
      "flex_flow": null,
      "grid_area": null,
      "grid_auto_columns": null,
      "grid_auto_flow": null,
      "grid_auto_rows": null,
      "grid_column": null,
      "grid_gap": null,
      "grid_row": null,
      "grid_template_areas": null,
      "grid_template_columns": null,
      "grid_template_rows": null,
      "height": null,
      "justify_content": null,
      "justify_items": null,
      "left": null,
      "margin": null,
      "max_height": null,
      "max_width": null,
      "min_height": null,
      "min_width": null,
      "object_fit": null,
      "object_position": null,
      "order": null,
      "overflow": null,
      "overflow_x": null,
      "overflow_y": null,
      "padding": null,
      "right": null,
      "top": null,
      "visibility": null,
      "width": null
     }
    },
    "b1aa128e167f47febf8f2f6e06cdc4c8": {
     "model_module": "@jupyter-widgets/base",
     "model_name": "LayoutModel",
     "state": {
      "_model_module": "@jupyter-widgets/base",
      "_model_module_version": "1.2.0",
      "_model_name": "LayoutModel",
      "_view_count": null,
      "_view_module": "@jupyter-widgets/base",
      "_view_module_version": "1.2.0",
      "_view_name": "LayoutView",
      "align_content": null,
      "align_items": null,
      "align_self": null,
      "border": null,
      "bottom": null,
      "display": null,
      "flex": null,
      "flex_flow": null,
      "grid_area": null,
      "grid_auto_columns": null,
      "grid_auto_flow": null,
      "grid_auto_rows": null,
      "grid_column": null,
      "grid_gap": null,
      "grid_row": null,
      "grid_template_areas": null,
      "grid_template_columns": null,
      "grid_template_rows": null,
      "height": null,
      "justify_content": null,
      "justify_items": null,
      "left": null,
      "margin": null,
      "max_height": null,
      "max_width": null,
      "min_height": null,
      "min_width": null,
      "object_fit": null,
      "object_position": null,
      "order": null,
      "overflow": null,
      "overflow_x": null,
      "overflow_y": null,
      "padding": null,
      "right": null,
      "top": null,
      "visibility": null,
      "width": null
     }
    },
    "be1020d5c20a44b5b939c9976b8963e9": {
     "model_module": "@jupyter-widgets/base",
     "model_name": "LayoutModel",
     "state": {
      "_model_module": "@jupyter-widgets/base",
      "_model_module_version": "1.2.0",
      "_model_name": "LayoutModel",
      "_view_count": null,
      "_view_module": "@jupyter-widgets/base",
      "_view_module_version": "1.2.0",
      "_view_name": "LayoutView",
      "align_content": null,
      "align_items": null,
      "align_self": null,
      "border": null,
      "bottom": null,
      "display": null,
      "flex": null,
      "flex_flow": null,
      "grid_area": null,
      "grid_auto_columns": null,
      "grid_auto_flow": null,
      "grid_auto_rows": null,
      "grid_column": null,
      "grid_gap": null,
      "grid_row": null,
      "grid_template_areas": null,
      "grid_template_columns": null,
      "grid_template_rows": null,
      "height": null,
      "justify_content": null,
      "justify_items": null,
      "left": null,
      "margin": null,
      "max_height": null,
      "max_width": null,
      "min_height": null,
      "min_width": null,
      "object_fit": null,
      "object_position": null,
      "order": null,
      "overflow": null,
      "overflow_x": null,
      "overflow_y": null,
      "padding": null,
      "right": null,
      "top": null,
      "visibility": null,
      "width": null
     }
    },
    "c3d80c88470f4d318424a250ace7dd63": {
     "model_module": "@jupyter-widgets/controls",
     "model_name": "HBoxModel",
     "state": {
      "_dom_classes": [],
      "_model_module": "@jupyter-widgets/controls",
      "_model_module_version": "1.5.0",
      "_model_name": "HBoxModel",
      "_view_count": null,
      "_view_module": "@jupyter-widgets/controls",
      "_view_module_version": "1.5.0",
      "_view_name": "HBoxView",
      "box_style": "",
      "children": [
       "IPY_MODEL_5598edecb47240e687ea3e06eca37b48",
       "IPY_MODEL_e075c900737a4f828b697deee2d87d7d"
      ],
      "layout": "IPY_MODEL_b09e35c6a2264d0bb77ab111cb8891c4"
     }
    },
    "c7106c7cfc11497fbb5166be368a5e39": {
     "model_module": "@jupyter-widgets/base",
     "model_name": "LayoutModel",
     "state": {
      "_model_module": "@jupyter-widgets/base",
      "_model_module_version": "1.2.0",
      "_model_name": "LayoutModel",
      "_view_count": null,
      "_view_module": "@jupyter-widgets/base",
      "_view_module_version": "1.2.0",
      "_view_name": "LayoutView",
      "align_content": null,
      "align_items": null,
      "align_self": null,
      "border": null,
      "bottom": null,
      "display": null,
      "flex": null,
      "flex_flow": null,
      "grid_area": null,
      "grid_auto_columns": null,
      "grid_auto_flow": null,
      "grid_auto_rows": null,
      "grid_column": null,
      "grid_gap": null,
      "grid_row": null,
      "grid_template_areas": null,
      "grid_template_columns": null,
      "grid_template_rows": null,
      "height": null,
      "justify_content": null,
      "justify_items": null,
      "left": null,
      "margin": null,
      "max_height": null,
      "max_width": null,
      "min_height": null,
      "min_width": null,
      "object_fit": null,
      "object_position": null,
      "order": null,
      "overflow": null,
      "overflow_x": null,
      "overflow_y": null,
      "padding": null,
      "right": null,
      "top": null,
      "visibility": null,
      "width": null
     }
    },
    "ca30f13c05ab48d3802926cc6cf22faf": {
     "model_module": "@jupyter-widgets/base",
     "model_name": "LayoutModel",
     "state": {
      "_model_module": "@jupyter-widgets/base",
      "_model_module_version": "1.2.0",
      "_model_name": "LayoutModel",
      "_view_count": null,
      "_view_module": "@jupyter-widgets/base",
      "_view_module_version": "1.2.0",
      "_view_name": "LayoutView",
      "align_content": null,
      "align_items": null,
      "align_self": null,
      "border": null,
      "bottom": null,
      "display": null,
      "flex": null,
      "flex_flow": null,
      "grid_area": null,
      "grid_auto_columns": null,
      "grid_auto_flow": null,
      "grid_auto_rows": null,
      "grid_column": null,
      "grid_gap": null,
      "grid_row": null,
      "grid_template_areas": null,
      "grid_template_columns": null,
      "grid_template_rows": null,
      "height": null,
      "justify_content": null,
      "justify_items": null,
      "left": null,
      "margin": null,
      "max_height": null,
      "max_width": null,
      "min_height": null,
      "min_width": null,
      "object_fit": null,
      "object_position": null,
      "order": null,
      "overflow": null,
      "overflow_x": null,
      "overflow_y": null,
      "padding": null,
      "right": null,
      "top": null,
      "visibility": null,
      "width": null
     }
    },
    "cb5c83eed3b742a98606cbc46b00294a": {
     "model_module": "@jupyter-widgets/base",
     "model_name": "LayoutModel",
     "state": {
      "_model_module": "@jupyter-widgets/base",
      "_model_module_version": "1.2.0",
      "_model_name": "LayoutModel",
      "_view_count": null,
      "_view_module": "@jupyter-widgets/base",
      "_view_module_version": "1.2.0",
      "_view_name": "LayoutView",
      "align_content": null,
      "align_items": null,
      "align_self": null,
      "border": null,
      "bottom": null,
      "display": null,
      "flex": null,
      "flex_flow": null,
      "grid_area": null,
      "grid_auto_columns": null,
      "grid_auto_flow": null,
      "grid_auto_rows": null,
      "grid_column": null,
      "grid_gap": null,
      "grid_row": null,
      "grid_template_areas": null,
      "grid_template_columns": null,
      "grid_template_rows": null,
      "height": null,
      "justify_content": null,
      "justify_items": null,
      "left": null,
      "margin": null,
      "max_height": null,
      "max_width": null,
      "min_height": null,
      "min_width": null,
      "object_fit": null,
      "object_position": null,
      "order": null,
      "overflow": null,
      "overflow_x": null,
      "overflow_y": null,
      "padding": null,
      "right": null,
      "top": null,
      "visibility": null,
      "width": null
     }
    },
    "cd9eb2429a3945c9bbf7d6662d6581ca": {
     "model_module": "@jupyter-widgets/controls",
     "model_name": "HTMLModel",
     "state": {
      "_dom_classes": [],
      "_model_module": "@jupyter-widgets/controls",
      "_model_module_version": "1.5.0",
      "_model_name": "HTMLModel",
      "_view_count": null,
      "_view_module": "@jupyter-widgets/controls",
      "_view_module_version": "1.5.0",
      "_view_name": "HTMLView",
      "description": "",
      "description_tooltip": null,
      "layout": "IPY_MODEL_98f351191d184493bd2148800ca62775",
      "placeholder": "​",
      "style": "IPY_MODEL_40b2542c93d34914b1fee571a8de594e",
      "value": "100% 600/600 [00:42&lt;00:00, 14.05it/s]"
     }
    },
    "cddbe5bb4cc34370b96d6c46734aa0c3": {
     "model_module": "@jupyter-widgets/controls",
     "model_name": "ProgressStyleModel",
     "state": {
      "_model_module": "@jupyter-widgets/controls",
      "_model_module_version": "1.5.0",
      "_model_name": "ProgressStyleModel",
      "_view_count": null,
      "_view_module": "@jupyter-widgets/base",
      "_view_module_version": "1.2.0",
      "_view_name": "StyleView",
      "bar_color": null,
      "description_width": "initial"
     }
    },
    "cf17888b325a44a1a5f5816949a1e4f8": {
     "model_module": "@jupyter-widgets/controls",
     "model_name": "DescriptionStyleModel",
     "state": {
      "_model_module": "@jupyter-widgets/controls",
      "_model_module_version": "1.5.0",
      "_model_name": "DescriptionStyleModel",
      "_view_count": null,
      "_view_module": "@jupyter-widgets/base",
      "_view_module_version": "1.2.0",
      "_view_name": "StyleView",
      "description_width": ""
     }
    },
    "d1854eea36014b29bd4c30e323d3cd67": {
     "model_module": "@jupyter-widgets/controls",
     "model_name": "IntProgressModel",
     "state": {
      "_dom_classes": [],
      "_model_module": "@jupyter-widgets/controls",
      "_model_module_version": "1.5.0",
      "_model_name": "IntProgressModel",
      "_view_count": null,
      "_view_module": "@jupyter-widgets/controls",
      "_view_module_version": "1.5.0",
      "_view_name": "ProgressView",
      "bar_style": "success",
      "description": "800-th epoch, loss: 0.0001, train accuracy: 1.00",
      "description_tooltip": null,
      "layout": "IPY_MODEL_a260605d8aea47bd8a39903f09224bf0",
      "max": 800,
      "min": 0,
      "orientation": "horizontal",
      "style": "IPY_MODEL_f957769f018a4582866bf45df12833bb",
      "value": 800
     }
    },
    "d52c226d51f44e10a8726eb7fc4196b8": {
     "model_module": "@jupyter-widgets/base",
     "model_name": "LayoutModel",
     "state": {
      "_model_module": "@jupyter-widgets/base",
      "_model_module_version": "1.2.0",
      "_model_name": "LayoutModel",
      "_view_count": null,
      "_view_module": "@jupyter-widgets/base",
      "_view_module_version": "1.2.0",
      "_view_name": "LayoutView",
      "align_content": null,
      "align_items": null,
      "align_self": null,
      "border": null,
      "bottom": null,
      "display": null,
      "flex": null,
      "flex_flow": null,
      "grid_area": null,
      "grid_auto_columns": null,
      "grid_auto_flow": null,
      "grid_auto_rows": null,
      "grid_column": null,
      "grid_gap": null,
      "grid_row": null,
      "grid_template_areas": null,
      "grid_template_columns": null,
      "grid_template_rows": null,
      "height": null,
      "justify_content": null,
      "justify_items": null,
      "left": null,
      "margin": null,
      "max_height": null,
      "max_width": null,
      "min_height": null,
      "min_width": null,
      "object_fit": null,
      "object_position": null,
      "order": null,
      "overflow": null,
      "overflow_x": null,
      "overflow_y": null,
      "padding": null,
      "right": null,
      "top": null,
      "visibility": null,
      "width": null
     }
    },
    "da287abd2b1041de91d699805467e9a9": {
     "model_module": "@jupyter-widgets/controls",
     "model_name": "HBoxModel",
     "state": {
      "_dom_classes": [],
      "_model_module": "@jupyter-widgets/controls",
      "_model_module_version": "1.5.0",
      "_model_name": "HBoxModel",
      "_view_count": null,
      "_view_module": "@jupyter-widgets/controls",
      "_view_module_version": "1.5.0",
      "_view_name": "HBoxView",
      "box_style": "",
      "children": [
       "IPY_MODEL_4d3804765a6641f2aa874916227ea1cf",
       "IPY_MODEL_06c756c1bcc841648bd45909d4ec77c1"
      ],
      "layout": "IPY_MODEL_879fcec4f09a414eaa180d3b84509e9d"
     }
    },
    "df10bd51b311406586375627d229b552": {
     "model_module": "@jupyter-widgets/controls",
     "model_name": "HTMLModel",
     "state": {
      "_dom_classes": [],
      "_model_module": "@jupyter-widgets/controls",
      "_model_module_version": "1.5.0",
      "_model_name": "HTMLModel",
      "_view_count": null,
      "_view_module": "@jupyter-widgets/controls",
      "_view_module_version": "1.5.0",
      "_view_name": "HTMLView",
      "description": "",
      "description_tooltip": null,
      "layout": "IPY_MODEL_073f7b5ba25641bc88193125592ba4c0",
      "placeholder": "​",
      "style": "IPY_MODEL_4a9e4c03e418489ab3c970eeb59eac77",
      "value": "100% 600/600 [00:42&lt;00:00, 14.09it/s]"
     }
    },
    "e075c900737a4f828b697deee2d87d7d": {
     "model_module": "@jupyter-widgets/controls",
     "model_name": "HTMLModel",
     "state": {
      "_dom_classes": [],
      "_model_module": "@jupyter-widgets/controls",
      "_model_module_version": "1.5.0",
      "_model_name": "HTMLModel",
      "_view_count": null,
      "_view_module": "@jupyter-widgets/controls",
      "_view_module_version": "1.5.0",
      "_view_name": "HTMLView",
      "description": "",
      "description_tooltip": null,
      "layout": "IPY_MODEL_1efcb7cec4a4415fa4a1407577e66cad",
      "placeholder": "​",
      "style": "IPY_MODEL_459536bca6f0405fb185b8bd6e1ef5a2",
      "value": "100% 400/400 [00:26&lt;00:00, 15.20it/s]"
     }
    },
    "e27e8d5d46604191a3769e68a9c69ed6": {
     "model_module": "@jupyter-widgets/base",
     "model_name": "LayoutModel",
     "state": {
      "_model_module": "@jupyter-widgets/base",
      "_model_module_version": "1.2.0",
      "_model_name": "LayoutModel",
      "_view_count": null,
      "_view_module": "@jupyter-widgets/base",
      "_view_module_version": "1.2.0",
      "_view_name": "LayoutView",
      "align_content": null,
      "align_items": null,
      "align_self": null,
      "border": null,
      "bottom": null,
      "display": null,
      "flex": null,
      "flex_flow": null,
      "grid_area": null,
      "grid_auto_columns": null,
      "grid_auto_flow": null,
      "grid_auto_rows": null,
      "grid_column": null,
      "grid_gap": null,
      "grid_row": null,
      "grid_template_areas": null,
      "grid_template_columns": null,
      "grid_template_rows": null,
      "height": null,
      "justify_content": null,
      "justify_items": null,
      "left": null,
      "margin": null,
      "max_height": null,
      "max_width": null,
      "min_height": null,
      "min_width": null,
      "object_fit": null,
      "object_position": null,
      "order": null,
      "overflow": null,
      "overflow_x": null,
      "overflow_y": null,
      "padding": null,
      "right": null,
      "top": null,
      "visibility": null,
      "width": null
     }
    },
    "e360034826144278ac077c6f8b828224": {
     "model_module": "@jupyter-widgets/controls",
     "model_name": "IntProgressModel",
     "state": {
      "_dom_classes": [],
      "_model_module": "@jupyter-widgets/controls",
      "_model_module_version": "1.5.0",
      "_model_name": "IntProgressModel",
      "_view_count": null,
      "_view_module": "@jupyter-widgets/controls",
      "_view_module_version": "1.5.0",
      "_view_name": "ProgressView",
      "bar_style": "success",
      "description": "600-th epoch, loss: 0.0000, train accuracy: 1.00",
      "description_tooltip": null,
      "layout": "IPY_MODEL_ca30f13c05ab48d3802926cc6cf22faf",
      "max": 600,
      "min": 0,
      "orientation": "horizontal",
      "style": "IPY_MODEL_02bfac14f3ef43f3a6257bfd414e67cd",
      "value": 600
     }
    },
    "e393a69dc1f44500b9bf3f5e8876cca5": {
     "model_module": "@jupyter-widgets/base",
     "model_name": "LayoutModel",
     "state": {
      "_model_module": "@jupyter-widgets/base",
      "_model_module_version": "1.2.0",
      "_model_name": "LayoutModel",
      "_view_count": null,
      "_view_module": "@jupyter-widgets/base",
      "_view_module_version": "1.2.0",
      "_view_name": "LayoutView",
      "align_content": null,
      "align_items": null,
      "align_self": null,
      "border": null,
      "bottom": null,
      "display": null,
      "flex": null,
      "flex_flow": null,
      "grid_area": null,
      "grid_auto_columns": null,
      "grid_auto_flow": null,
      "grid_auto_rows": null,
      "grid_column": null,
      "grid_gap": null,
      "grid_row": null,
      "grid_template_areas": null,
      "grid_template_columns": null,
      "grid_template_rows": null,
      "height": null,
      "justify_content": null,
      "justify_items": null,
      "left": null,
      "margin": null,
      "max_height": null,
      "max_width": null,
      "min_height": null,
      "min_width": null,
      "object_fit": null,
      "object_position": null,
      "order": null,
      "overflow": null,
      "overflow_x": null,
      "overflow_y": null,
      "padding": null,
      "right": null,
      "top": null,
      "visibility": null,
      "width": null
     }
    },
    "e691f7777aba4eca91afd863da17acb1": {
     "model_module": "@jupyter-widgets/controls",
     "model_name": "DescriptionStyleModel",
     "state": {
      "_model_module": "@jupyter-widgets/controls",
      "_model_module_version": "1.5.0",
      "_model_name": "DescriptionStyleModel",
      "_view_count": null,
      "_view_module": "@jupyter-widgets/base",
      "_view_module_version": "1.2.0",
      "_view_name": "StyleView",
      "description_width": ""
     }
    },
    "e7a173278e19425d8abfedd323009181": {
     "model_module": "@jupyter-widgets/controls",
     "model_name": "DescriptionStyleModel",
     "state": {
      "_model_module": "@jupyter-widgets/controls",
      "_model_module_version": "1.5.0",
      "_model_name": "DescriptionStyleModel",
      "_view_count": null,
      "_view_module": "@jupyter-widgets/base",
      "_view_module_version": "1.2.0",
      "_view_name": "StyleView",
      "description_width": ""
     }
    },
    "f07b2acfd5714462831bfafb4740816a": {
     "model_module": "@jupyter-widgets/controls",
     "model_name": "ProgressStyleModel",
     "state": {
      "_model_module": "@jupyter-widgets/controls",
      "_model_module_version": "1.5.0",
      "_model_name": "ProgressStyleModel",
      "_view_count": null,
      "_view_module": "@jupyter-widgets/base",
      "_view_module_version": "1.2.0",
      "_view_name": "StyleView",
      "bar_color": null,
      "description_width": "initial"
     }
    },
    "f15eb1bff11b4619be2c9de897362362": {
     "model_module": "@jupyter-widgets/controls",
     "model_name": "HBoxModel",
     "state": {
      "_dom_classes": [],
      "_model_module": "@jupyter-widgets/controls",
      "_model_module_version": "1.5.0",
      "_model_name": "HBoxModel",
      "_view_count": null,
      "_view_module": "@jupyter-widgets/controls",
      "_view_module_version": "1.5.0",
      "_view_name": "HBoxView",
      "box_style": "",
      "children": [
       "IPY_MODEL_6a333347737d4724997fd7e91408be25",
       "IPY_MODEL_df10bd51b311406586375627d229b552"
      ],
      "layout": "IPY_MODEL_1bd4d419f26547f2b410b70cdf0c59fa"
     }
    },
    "f3a9b25ca9a148a89b2be00919ec3f5c": {
     "model_module": "@jupyter-widgets/base",
     "model_name": "LayoutModel",
     "state": {
      "_model_module": "@jupyter-widgets/base",
      "_model_module_version": "1.2.0",
      "_model_name": "LayoutModel",
      "_view_count": null,
      "_view_module": "@jupyter-widgets/base",
      "_view_module_version": "1.2.0",
      "_view_name": "LayoutView",
      "align_content": null,
      "align_items": null,
      "align_self": null,
      "border": null,
      "bottom": null,
      "display": null,
      "flex": null,
      "flex_flow": null,
      "grid_area": null,
      "grid_auto_columns": null,
      "grid_auto_flow": null,
      "grid_auto_rows": null,
      "grid_column": null,
      "grid_gap": null,
      "grid_row": null,
      "grid_template_areas": null,
      "grid_template_columns": null,
      "grid_template_rows": null,
      "height": null,
      "justify_content": null,
      "justify_items": null,
      "left": null,
      "margin": null,
      "max_height": null,
      "max_width": null,
      "min_height": null,
      "min_width": null,
      "object_fit": null,
      "object_position": null,
      "order": null,
      "overflow": null,
      "overflow_x": null,
      "overflow_y": null,
      "padding": null,
      "right": null,
      "top": null,
      "visibility": null,
      "width": null
     }
    },
    "f5c4eac7d0ce4951b06730aacc60f3f9": {
     "model_module": "@jupyter-widgets/controls",
     "model_name": "HTMLModel",
     "state": {
      "_dom_classes": [],
      "_model_module": "@jupyter-widgets/controls",
      "_model_module_version": "1.5.0",
      "_model_name": "HTMLModel",
      "_view_count": null,
      "_view_module": "@jupyter-widgets/controls",
      "_view_module_version": "1.5.0",
      "_view_name": "HTMLView",
      "description": "",
      "description_tooltip": null,
      "layout": "IPY_MODEL_be1020d5c20a44b5b939c9976b8963e9",
      "placeholder": "​",
      "style": "IPY_MODEL_e691f7777aba4eca91afd863da17acb1",
      "value": "100% 600/600 [00:39&lt;00:00, 15.08it/s]"
     }
    },
    "f6adf00c762c45278b0ce4ab22ce8fb6": {
     "model_module": "@jupyter-widgets/controls",
     "model_name": "HBoxModel",
     "state": {
      "_dom_classes": [],
      "_model_module": "@jupyter-widgets/controls",
      "_model_module_version": "1.5.0",
      "_model_name": "HBoxModel",
      "_view_count": null,
      "_view_module": "@jupyter-widgets/controls",
      "_view_module_version": "1.5.0",
      "_view_name": "HBoxView",
      "box_style": "",
      "children": [
       "IPY_MODEL_486395076f644f9aa55a93ab320f648b",
       "IPY_MODEL_f5c4eac7d0ce4951b06730aacc60f3f9"
      ],
      "layout": "IPY_MODEL_ae38954375654d92978dfd3b03e2ccf8"
     }
    },
    "f8364c8e73dc4cb6b5326a0496c3cd66": {
     "model_module": "@jupyter-widgets/base",
     "model_name": "LayoutModel",
     "state": {
      "_model_module": "@jupyter-widgets/base",
      "_model_module_version": "1.2.0",
      "_model_name": "LayoutModel",
      "_view_count": null,
      "_view_module": "@jupyter-widgets/base",
      "_view_module_version": "1.2.0",
      "_view_name": "LayoutView",
      "align_content": null,
      "align_items": null,
      "align_self": null,
      "border": null,
      "bottom": null,
      "display": null,
      "flex": null,
      "flex_flow": null,
      "grid_area": null,
      "grid_auto_columns": null,
      "grid_auto_flow": null,
      "grid_auto_rows": null,
      "grid_column": null,
      "grid_gap": null,
      "grid_row": null,
      "grid_template_areas": null,
      "grid_template_columns": null,
      "grid_template_rows": null,
      "height": null,
      "justify_content": null,
      "justify_items": null,
      "left": null,
      "margin": null,
      "max_height": null,
      "max_width": null,
      "min_height": null,
      "min_width": null,
      "object_fit": null,
      "object_position": null,
      "order": null,
      "overflow": null,
      "overflow_x": null,
      "overflow_y": null,
      "padding": null,
      "right": null,
      "top": null,
      "visibility": null,
      "width": null
     }
    },
    "f8f7081518c249ad89b53d28d4966c5a": {
     "model_module": "@jupyter-widgets/controls",
     "model_name": "HBoxModel",
     "state": {
      "_dom_classes": [],
      "_model_module": "@jupyter-widgets/controls",
      "_model_module_version": "1.5.0",
      "_model_name": "HBoxModel",
      "_view_count": null,
      "_view_module": "@jupyter-widgets/controls",
      "_view_module_version": "1.5.0",
      "_view_name": "HBoxView",
      "box_style": "",
      "children": [
       "IPY_MODEL_8199bf39e4ef4ca684026343a643d8e0",
       "IPY_MODEL_6de3852c16ea43b39209887b2d8419d0"
      ],
      "layout": "IPY_MODEL_344152ccdd7d48b3b6a023c463790495"
     }
    },
    "f957769f018a4582866bf45df12833bb": {
     "model_module": "@jupyter-widgets/controls",
     "model_name": "ProgressStyleModel",
     "state": {
      "_model_module": "@jupyter-widgets/controls",
      "_model_module_version": "1.5.0",
      "_model_name": "ProgressStyleModel",
      "_view_count": null,
      "_view_module": "@jupyter-widgets/base",
      "_view_module_version": "1.2.0",
      "_view_name": "StyleView",
      "bar_color": null,
      "description_width": "initial"
     }
    }
   }
  }
 },
 "nbformat": 4,
 "nbformat_minor": 1
}
